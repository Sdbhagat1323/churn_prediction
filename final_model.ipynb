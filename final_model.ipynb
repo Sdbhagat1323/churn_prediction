{
  "cells": [
    {
      "cell_type": "code",
      "execution_count": 70,
      "id": "e1f5d8d5",
      "metadata": {
        "id": "e1f5d8d5"
      },
      "outputs": [],
      "source": [
        "# Importing required libraries\n",
        "import pandas as pd\n",
        "import numpy as np\n",
        "import seaborn as sn\n",
        "import matplotlib.pyplot as plt\n",
        "import warnings\n",
        "warnings.filterwarnings('ignore')\n",
        "pd.set_option(\"display.precision\", 2)\n",
        "pd.set_option('display.max_columns', None)\n",
        "# import sweetviz as sw\n",
        "from sklearn.model_selection import train_test_split\n",
        "from sklearn.preprocessing import LabelEncoder, OneHotEncoder"
      ]
    },
    {
      "cell_type": "code",
      "source": [
        "# from google.colab import drive\n",
        "# drive.mount('/content/drive')"
      ],
      "metadata": {
        "id": "pgUVJiKqmbFd"
      },
      "id": "pgUVJiKqmbFd",
      "execution_count": 71,
      "outputs": []
    },
    {
      "cell_type": "code",
      "execution_count": 72,
      "id": "3c186d10",
      "metadata": {
        "id": "3c186d10"
      },
      "outputs": [],
      "source": [
        "# import csv\n",
        "df = pd.read_csv(\"telco-customer-churn.csv\")"
      ]
    },
    {
      "cell_type": "code",
      "execution_count": 73,
      "id": "f8b0ca53",
      "metadata": {
        "colab": {
          "base_uri": "https://localhost:8080/"
        },
        "id": "f8b0ca53",
        "outputId": "24e72506-dfab-4d5c-a889-97af38ac35bd"
      },
      "outputs": [
        {
          "output_type": "stream",
          "name": "stdout",
          "text": [
            "The size of dataset is (7043, 21)\n",
            "There are 7043 rows  in dataset.\n",
            "There are 21 columns in dataset.\n"
          ]
        }
      ],
      "source": [
        "# basic information about data set\n",
        "print(\"The size of dataset is {}\".format(df.shape))\n",
        "print(\"There are {} rows  in dataset.\".format(df.shape[0]))\n",
        "print(\"There are {} columns in dataset.\".format(df.shape[1]))"
      ]
    },
    {
      "cell_type": "code",
      "execution_count": 74,
      "id": "87ac54b6",
      "metadata": {
        "colab": {
          "base_uri": "https://localhost:8080/",
          "height": 357
        },
        "id": "87ac54b6",
        "outputId": "3afda337-8040-492e-8915-4da1d861273d"
      },
      "outputs": [
        {
          "output_type": "execute_result",
          "data": {
            "text/plain": [
              "   customerID  gender  SeniorCitizen Partner Dependents  tenure PhoneService  \\\n",
              "0  7590-VHVEG  Female              0     Yes         No       1           No   \n",
              "1  5575-GNVDE    Male              0      No         No      34          Yes   \n",
              "2  3668-QPYBK    Male              0      No         No       2          Yes   \n",
              "3  7795-CFOCW    Male              0      No         No      45           No   \n",
              "4  9237-HQITU  Female              0      No         No       2          Yes   \n",
              "\n",
              "      MultipleLines InternetService OnlineSecurity OnlineBackup  \\\n",
              "0  No phone service             DSL             No          Yes   \n",
              "1                No             DSL            Yes           No   \n",
              "2                No             DSL            Yes          Yes   \n",
              "3  No phone service             DSL            Yes           No   \n",
              "4                No     Fiber optic             No           No   \n",
              "\n",
              "  DeviceProtection TechSupport StreamingTV StreamingMovies        Contract  \\\n",
              "0               No          No          No              No  Month-to-month   \n",
              "1              Yes          No          No              No        One year   \n",
              "2               No          No          No              No  Month-to-month   \n",
              "3              Yes         Yes          No              No        One year   \n",
              "4               No          No          No              No  Month-to-month   \n",
              "\n",
              "  PaperlessBilling              PaymentMethod  MonthlyCharges TotalCharges  \\\n",
              "0              Yes           Electronic check           29.85        29.85   \n",
              "1               No               Mailed check           56.95       1889.5   \n",
              "2              Yes               Mailed check           53.85       108.15   \n",
              "3               No  Bank transfer (automatic)           42.30      1840.75   \n",
              "4              Yes           Electronic check           70.70       151.65   \n",
              "\n",
              "  Churn  \n",
              "0    No  \n",
              "1    No  \n",
              "2   Yes  \n",
              "3    No  \n",
              "4   Yes  "
            ],
            "text/html": [
              "\n",
              "  <div id=\"df-611b5864-dafd-46ef-bc4c-396b4357cb25\">\n",
              "    <div class=\"colab-df-container\">\n",
              "      <div>\n",
              "<style scoped>\n",
              "    .dataframe tbody tr th:only-of-type {\n",
              "        vertical-align: middle;\n",
              "    }\n",
              "\n",
              "    .dataframe tbody tr th {\n",
              "        vertical-align: top;\n",
              "    }\n",
              "\n",
              "    .dataframe thead th {\n",
              "        text-align: right;\n",
              "    }\n",
              "</style>\n",
              "<table border=\"1\" class=\"dataframe\">\n",
              "  <thead>\n",
              "    <tr style=\"text-align: right;\">\n",
              "      <th></th>\n",
              "      <th>customerID</th>\n",
              "      <th>gender</th>\n",
              "      <th>SeniorCitizen</th>\n",
              "      <th>Partner</th>\n",
              "      <th>Dependents</th>\n",
              "      <th>tenure</th>\n",
              "      <th>PhoneService</th>\n",
              "      <th>MultipleLines</th>\n",
              "      <th>InternetService</th>\n",
              "      <th>OnlineSecurity</th>\n",
              "      <th>OnlineBackup</th>\n",
              "      <th>DeviceProtection</th>\n",
              "      <th>TechSupport</th>\n",
              "      <th>StreamingTV</th>\n",
              "      <th>StreamingMovies</th>\n",
              "      <th>Contract</th>\n",
              "      <th>PaperlessBilling</th>\n",
              "      <th>PaymentMethod</th>\n",
              "      <th>MonthlyCharges</th>\n",
              "      <th>TotalCharges</th>\n",
              "      <th>Churn</th>\n",
              "    </tr>\n",
              "  </thead>\n",
              "  <tbody>\n",
              "    <tr>\n",
              "      <th>0</th>\n",
              "      <td>7590-VHVEG</td>\n",
              "      <td>Female</td>\n",
              "      <td>0</td>\n",
              "      <td>Yes</td>\n",
              "      <td>No</td>\n",
              "      <td>1</td>\n",
              "      <td>No</td>\n",
              "      <td>No phone service</td>\n",
              "      <td>DSL</td>\n",
              "      <td>No</td>\n",
              "      <td>Yes</td>\n",
              "      <td>No</td>\n",
              "      <td>No</td>\n",
              "      <td>No</td>\n",
              "      <td>No</td>\n",
              "      <td>Month-to-month</td>\n",
              "      <td>Yes</td>\n",
              "      <td>Electronic check</td>\n",
              "      <td>29.85</td>\n",
              "      <td>29.85</td>\n",
              "      <td>No</td>\n",
              "    </tr>\n",
              "    <tr>\n",
              "      <th>1</th>\n",
              "      <td>5575-GNVDE</td>\n",
              "      <td>Male</td>\n",
              "      <td>0</td>\n",
              "      <td>No</td>\n",
              "      <td>No</td>\n",
              "      <td>34</td>\n",
              "      <td>Yes</td>\n",
              "      <td>No</td>\n",
              "      <td>DSL</td>\n",
              "      <td>Yes</td>\n",
              "      <td>No</td>\n",
              "      <td>Yes</td>\n",
              "      <td>No</td>\n",
              "      <td>No</td>\n",
              "      <td>No</td>\n",
              "      <td>One year</td>\n",
              "      <td>No</td>\n",
              "      <td>Mailed check</td>\n",
              "      <td>56.95</td>\n",
              "      <td>1889.5</td>\n",
              "      <td>No</td>\n",
              "    </tr>\n",
              "    <tr>\n",
              "      <th>2</th>\n",
              "      <td>3668-QPYBK</td>\n",
              "      <td>Male</td>\n",
              "      <td>0</td>\n",
              "      <td>No</td>\n",
              "      <td>No</td>\n",
              "      <td>2</td>\n",
              "      <td>Yes</td>\n",
              "      <td>No</td>\n",
              "      <td>DSL</td>\n",
              "      <td>Yes</td>\n",
              "      <td>Yes</td>\n",
              "      <td>No</td>\n",
              "      <td>No</td>\n",
              "      <td>No</td>\n",
              "      <td>No</td>\n",
              "      <td>Month-to-month</td>\n",
              "      <td>Yes</td>\n",
              "      <td>Mailed check</td>\n",
              "      <td>53.85</td>\n",
              "      <td>108.15</td>\n",
              "      <td>Yes</td>\n",
              "    </tr>\n",
              "    <tr>\n",
              "      <th>3</th>\n",
              "      <td>7795-CFOCW</td>\n",
              "      <td>Male</td>\n",
              "      <td>0</td>\n",
              "      <td>No</td>\n",
              "      <td>No</td>\n",
              "      <td>45</td>\n",
              "      <td>No</td>\n",
              "      <td>No phone service</td>\n",
              "      <td>DSL</td>\n",
              "      <td>Yes</td>\n",
              "      <td>No</td>\n",
              "      <td>Yes</td>\n",
              "      <td>Yes</td>\n",
              "      <td>No</td>\n",
              "      <td>No</td>\n",
              "      <td>One year</td>\n",
              "      <td>No</td>\n",
              "      <td>Bank transfer (automatic)</td>\n",
              "      <td>42.30</td>\n",
              "      <td>1840.75</td>\n",
              "      <td>No</td>\n",
              "    </tr>\n",
              "    <tr>\n",
              "      <th>4</th>\n",
              "      <td>9237-HQITU</td>\n",
              "      <td>Female</td>\n",
              "      <td>0</td>\n",
              "      <td>No</td>\n",
              "      <td>No</td>\n",
              "      <td>2</td>\n",
              "      <td>Yes</td>\n",
              "      <td>No</td>\n",
              "      <td>Fiber optic</td>\n",
              "      <td>No</td>\n",
              "      <td>No</td>\n",
              "      <td>No</td>\n",
              "      <td>No</td>\n",
              "      <td>No</td>\n",
              "      <td>No</td>\n",
              "      <td>Month-to-month</td>\n",
              "      <td>Yes</td>\n",
              "      <td>Electronic check</td>\n",
              "      <td>70.70</td>\n",
              "      <td>151.65</td>\n",
              "      <td>Yes</td>\n",
              "    </tr>\n",
              "  </tbody>\n",
              "</table>\n",
              "</div>\n",
              "      <button class=\"colab-df-convert\" onclick=\"convertToInteractive('df-611b5864-dafd-46ef-bc4c-396b4357cb25')\"\n",
              "              title=\"Convert this dataframe to an interactive table.\"\n",
              "              style=\"display:none;\">\n",
              "        \n",
              "  <svg xmlns=\"http://www.w3.org/2000/svg\" height=\"24px\"viewBox=\"0 0 24 24\"\n",
              "       width=\"24px\">\n",
              "    <path d=\"M0 0h24v24H0V0z\" fill=\"none\"/>\n",
              "    <path d=\"M18.56 5.44l.94 2.06.94-2.06 2.06-.94-2.06-.94-.94-2.06-.94 2.06-2.06.94zm-11 1L8.5 8.5l.94-2.06 2.06-.94-2.06-.94L8.5 2.5l-.94 2.06-2.06.94zm10 10l.94 2.06.94-2.06 2.06-.94-2.06-.94-.94-2.06-.94 2.06-2.06.94z\"/><path d=\"M17.41 7.96l-1.37-1.37c-.4-.4-.92-.59-1.43-.59-.52 0-1.04.2-1.43.59L10.3 9.45l-7.72 7.72c-.78.78-.78 2.05 0 2.83L4 21.41c.39.39.9.59 1.41.59.51 0 1.02-.2 1.41-.59l7.78-7.78 2.81-2.81c.8-.78.8-2.07 0-2.86zM5.41 20L4 18.59l7.72-7.72 1.47 1.35L5.41 20z\"/>\n",
              "  </svg>\n",
              "      </button>\n",
              "      \n",
              "  <style>\n",
              "    .colab-df-container {\n",
              "      display:flex;\n",
              "      flex-wrap:wrap;\n",
              "      gap: 12px;\n",
              "    }\n",
              "\n",
              "    .colab-df-convert {\n",
              "      background-color: #E8F0FE;\n",
              "      border: none;\n",
              "      border-radius: 50%;\n",
              "      cursor: pointer;\n",
              "      display: none;\n",
              "      fill: #1967D2;\n",
              "      height: 32px;\n",
              "      padding: 0 0 0 0;\n",
              "      width: 32px;\n",
              "    }\n",
              "\n",
              "    .colab-df-convert:hover {\n",
              "      background-color: #E2EBFA;\n",
              "      box-shadow: 0px 1px 2px rgba(60, 64, 67, 0.3), 0px 1px 3px 1px rgba(60, 64, 67, 0.15);\n",
              "      fill: #174EA6;\n",
              "    }\n",
              "\n",
              "    [theme=dark] .colab-df-convert {\n",
              "      background-color: #3B4455;\n",
              "      fill: #D2E3FC;\n",
              "    }\n",
              "\n",
              "    [theme=dark] .colab-df-convert:hover {\n",
              "      background-color: #434B5C;\n",
              "      box-shadow: 0px 1px 3px 1px rgba(0, 0, 0, 0.15);\n",
              "      filter: drop-shadow(0px 1px 2px rgba(0, 0, 0, 0.3));\n",
              "      fill: #FFFFFF;\n",
              "    }\n",
              "  </style>\n",
              "\n",
              "      <script>\n",
              "        const buttonEl =\n",
              "          document.querySelector('#df-611b5864-dafd-46ef-bc4c-396b4357cb25 button.colab-df-convert');\n",
              "        buttonEl.style.display =\n",
              "          google.colab.kernel.accessAllowed ? 'block' : 'none';\n",
              "\n",
              "        async function convertToInteractive(key) {\n",
              "          const element = document.querySelector('#df-611b5864-dafd-46ef-bc4c-396b4357cb25');\n",
              "          const dataTable =\n",
              "            await google.colab.kernel.invokeFunction('convertToInteractive',\n",
              "                                                     [key], {});\n",
              "          if (!dataTable) return;\n",
              "\n",
              "          const docLinkHtml = 'Like what you see? Visit the ' +\n",
              "            '<a target=\"_blank\" href=https://colab.research.google.com/notebooks/data_table.ipynb>data table notebook</a>'\n",
              "            + ' to learn more about interactive tables.';\n",
              "          element.innerHTML = '';\n",
              "          dataTable['output_type'] = 'display_data';\n",
              "          await google.colab.output.renderOutput(dataTable, element);\n",
              "          const docLink = document.createElement('div');\n",
              "          docLink.innerHTML = docLinkHtml;\n",
              "          element.appendChild(docLink);\n",
              "        }\n",
              "      </script>\n",
              "    </div>\n",
              "  </div>\n",
              "  "
            ]
          },
          "metadata": {},
          "execution_count": 74
        }
      ],
      "source": [
        "df.head()# first five"
      ]
    },
    {
      "cell_type": "code",
      "execution_count": 75,
      "id": "41468652",
      "metadata": {
        "colab": {
          "base_uri": "https://localhost:8080/",
          "height": 211
        },
        "id": "41468652",
        "outputId": "d0adab19-7702-4c86-8c3c-cbd1f2ec6451"
      },
      "outputs": [
        {
          "output_type": "execute_result",
          "data": {
            "text/plain": [
              "      customerID gender  SeniorCitizen Partner Dependents  tenure  \\\n",
              "7041  8361-LTMKD   Male              1     Yes         No       4   \n",
              "7042  3186-AJIEK   Male              0      No         No      66   \n",
              "\n",
              "     PhoneService MultipleLines InternetService OnlineSecurity OnlineBackup  \\\n",
              "7041          Yes           Yes     Fiber optic             No           No   \n",
              "7042          Yes            No     Fiber optic            Yes           No   \n",
              "\n",
              "     DeviceProtection TechSupport StreamingTV StreamingMovies        Contract  \\\n",
              "7041               No          No          No              No  Month-to-month   \n",
              "7042              Yes         Yes         Yes             Yes        Two year   \n",
              "\n",
              "     PaperlessBilling              PaymentMethod  MonthlyCharges TotalCharges  \\\n",
              "7041              Yes               Mailed check           74.40        306.6   \n",
              "7042              Yes  Bank transfer (automatic)          105.65       6844.5   \n",
              "\n",
              "     Churn  \n",
              "7041   Yes  \n",
              "7042    No  "
            ],
            "text/html": [
              "\n",
              "  <div id=\"df-58ed6d53-6ee0-4239-907d-a858560c466d\">\n",
              "    <div class=\"colab-df-container\">\n",
              "      <div>\n",
              "<style scoped>\n",
              "    .dataframe tbody tr th:only-of-type {\n",
              "        vertical-align: middle;\n",
              "    }\n",
              "\n",
              "    .dataframe tbody tr th {\n",
              "        vertical-align: top;\n",
              "    }\n",
              "\n",
              "    .dataframe thead th {\n",
              "        text-align: right;\n",
              "    }\n",
              "</style>\n",
              "<table border=\"1\" class=\"dataframe\">\n",
              "  <thead>\n",
              "    <tr style=\"text-align: right;\">\n",
              "      <th></th>\n",
              "      <th>customerID</th>\n",
              "      <th>gender</th>\n",
              "      <th>SeniorCitizen</th>\n",
              "      <th>Partner</th>\n",
              "      <th>Dependents</th>\n",
              "      <th>tenure</th>\n",
              "      <th>PhoneService</th>\n",
              "      <th>MultipleLines</th>\n",
              "      <th>InternetService</th>\n",
              "      <th>OnlineSecurity</th>\n",
              "      <th>OnlineBackup</th>\n",
              "      <th>DeviceProtection</th>\n",
              "      <th>TechSupport</th>\n",
              "      <th>StreamingTV</th>\n",
              "      <th>StreamingMovies</th>\n",
              "      <th>Contract</th>\n",
              "      <th>PaperlessBilling</th>\n",
              "      <th>PaymentMethod</th>\n",
              "      <th>MonthlyCharges</th>\n",
              "      <th>TotalCharges</th>\n",
              "      <th>Churn</th>\n",
              "    </tr>\n",
              "  </thead>\n",
              "  <tbody>\n",
              "    <tr>\n",
              "      <th>7041</th>\n",
              "      <td>8361-LTMKD</td>\n",
              "      <td>Male</td>\n",
              "      <td>1</td>\n",
              "      <td>Yes</td>\n",
              "      <td>No</td>\n",
              "      <td>4</td>\n",
              "      <td>Yes</td>\n",
              "      <td>Yes</td>\n",
              "      <td>Fiber optic</td>\n",
              "      <td>No</td>\n",
              "      <td>No</td>\n",
              "      <td>No</td>\n",
              "      <td>No</td>\n",
              "      <td>No</td>\n",
              "      <td>No</td>\n",
              "      <td>Month-to-month</td>\n",
              "      <td>Yes</td>\n",
              "      <td>Mailed check</td>\n",
              "      <td>74.40</td>\n",
              "      <td>306.6</td>\n",
              "      <td>Yes</td>\n",
              "    </tr>\n",
              "    <tr>\n",
              "      <th>7042</th>\n",
              "      <td>3186-AJIEK</td>\n",
              "      <td>Male</td>\n",
              "      <td>0</td>\n",
              "      <td>No</td>\n",
              "      <td>No</td>\n",
              "      <td>66</td>\n",
              "      <td>Yes</td>\n",
              "      <td>No</td>\n",
              "      <td>Fiber optic</td>\n",
              "      <td>Yes</td>\n",
              "      <td>No</td>\n",
              "      <td>Yes</td>\n",
              "      <td>Yes</td>\n",
              "      <td>Yes</td>\n",
              "      <td>Yes</td>\n",
              "      <td>Two year</td>\n",
              "      <td>Yes</td>\n",
              "      <td>Bank transfer (automatic)</td>\n",
              "      <td>105.65</td>\n",
              "      <td>6844.5</td>\n",
              "      <td>No</td>\n",
              "    </tr>\n",
              "  </tbody>\n",
              "</table>\n",
              "</div>\n",
              "      <button class=\"colab-df-convert\" onclick=\"convertToInteractive('df-58ed6d53-6ee0-4239-907d-a858560c466d')\"\n",
              "              title=\"Convert this dataframe to an interactive table.\"\n",
              "              style=\"display:none;\">\n",
              "        \n",
              "  <svg xmlns=\"http://www.w3.org/2000/svg\" height=\"24px\"viewBox=\"0 0 24 24\"\n",
              "       width=\"24px\">\n",
              "    <path d=\"M0 0h24v24H0V0z\" fill=\"none\"/>\n",
              "    <path d=\"M18.56 5.44l.94 2.06.94-2.06 2.06-.94-2.06-.94-.94-2.06-.94 2.06-2.06.94zm-11 1L8.5 8.5l.94-2.06 2.06-.94-2.06-.94L8.5 2.5l-.94 2.06-2.06.94zm10 10l.94 2.06.94-2.06 2.06-.94-2.06-.94-.94-2.06-.94 2.06-2.06.94z\"/><path d=\"M17.41 7.96l-1.37-1.37c-.4-.4-.92-.59-1.43-.59-.52 0-1.04.2-1.43.59L10.3 9.45l-7.72 7.72c-.78.78-.78 2.05 0 2.83L4 21.41c.39.39.9.59 1.41.59.51 0 1.02-.2 1.41-.59l7.78-7.78 2.81-2.81c.8-.78.8-2.07 0-2.86zM5.41 20L4 18.59l7.72-7.72 1.47 1.35L5.41 20z\"/>\n",
              "  </svg>\n",
              "      </button>\n",
              "      \n",
              "  <style>\n",
              "    .colab-df-container {\n",
              "      display:flex;\n",
              "      flex-wrap:wrap;\n",
              "      gap: 12px;\n",
              "    }\n",
              "\n",
              "    .colab-df-convert {\n",
              "      background-color: #E8F0FE;\n",
              "      border: none;\n",
              "      border-radius: 50%;\n",
              "      cursor: pointer;\n",
              "      display: none;\n",
              "      fill: #1967D2;\n",
              "      height: 32px;\n",
              "      padding: 0 0 0 0;\n",
              "      width: 32px;\n",
              "    }\n",
              "\n",
              "    .colab-df-convert:hover {\n",
              "      background-color: #E2EBFA;\n",
              "      box-shadow: 0px 1px 2px rgba(60, 64, 67, 0.3), 0px 1px 3px 1px rgba(60, 64, 67, 0.15);\n",
              "      fill: #174EA6;\n",
              "    }\n",
              "\n",
              "    [theme=dark] .colab-df-convert {\n",
              "      background-color: #3B4455;\n",
              "      fill: #D2E3FC;\n",
              "    }\n",
              "\n",
              "    [theme=dark] .colab-df-convert:hover {\n",
              "      background-color: #434B5C;\n",
              "      box-shadow: 0px 1px 3px 1px rgba(0, 0, 0, 0.15);\n",
              "      filter: drop-shadow(0px 1px 2px rgba(0, 0, 0, 0.3));\n",
              "      fill: #FFFFFF;\n",
              "    }\n",
              "  </style>\n",
              "\n",
              "      <script>\n",
              "        const buttonEl =\n",
              "          document.querySelector('#df-58ed6d53-6ee0-4239-907d-a858560c466d button.colab-df-convert');\n",
              "        buttonEl.style.display =\n",
              "          google.colab.kernel.accessAllowed ? 'block' : 'none';\n",
              "\n",
              "        async function convertToInteractive(key) {\n",
              "          const element = document.querySelector('#df-58ed6d53-6ee0-4239-907d-a858560c466d');\n",
              "          const dataTable =\n",
              "            await google.colab.kernel.invokeFunction('convertToInteractive',\n",
              "                                                     [key], {});\n",
              "          if (!dataTable) return;\n",
              "\n",
              "          const docLinkHtml = 'Like what you see? Visit the ' +\n",
              "            '<a target=\"_blank\" href=https://colab.research.google.com/notebooks/data_table.ipynb>data table notebook</a>'\n",
              "            + ' to learn more about interactive tables.';\n",
              "          element.innerHTML = '';\n",
              "          dataTable['output_type'] = 'display_data';\n",
              "          await google.colab.output.renderOutput(dataTable, element);\n",
              "          const docLink = document.createElement('div');\n",
              "          docLink.innerHTML = docLinkHtml;\n",
              "          element.appendChild(docLink);\n",
              "        }\n",
              "      </script>\n",
              "    </div>\n",
              "  </div>\n",
              "  "
            ]
          },
          "metadata": {},
          "execution_count": 75
        }
      ],
      "source": [
        "df.tail(2)"
      ]
    },
    {
      "cell_type": "code",
      "execution_count": 76,
      "id": "9b41150f",
      "metadata": {
        "id": "9b41150f"
      },
      "outputs": [],
      "source": [
        "# make all the column label uniform\n",
        "df.columns = [x.capitalize() for x in df.columns]"
      ]
    },
    {
      "cell_type": "code",
      "execution_count": 77,
      "id": "7b4c55c8",
      "metadata": {
        "colab": {
          "base_uri": "https://localhost:8080/",
          "height": 357
        },
        "id": "7b4c55c8",
        "outputId": "5e1c81ae-6109-4bcc-c6ad-e87426cdc28d"
      },
      "outputs": [
        {
          "output_type": "execute_result",
          "data": {
            "text/plain": [
              "   Customerid  Gender  Seniorcitizen Partner Dependents  Tenure Phoneservice  \\\n",
              "0  7590-VHVEG  Female              0     Yes         No       1           No   \n",
              "1  5575-GNVDE    Male              0      No         No      34          Yes   \n",
              "2  3668-QPYBK    Male              0      No         No       2          Yes   \n",
              "3  7795-CFOCW    Male              0      No         No      45           No   \n",
              "4  9237-HQITU  Female              0      No         No       2          Yes   \n",
              "\n",
              "      Multiplelines Internetservice Onlinesecurity Onlinebackup  \\\n",
              "0  No phone service             DSL             No          Yes   \n",
              "1                No             DSL            Yes           No   \n",
              "2                No             DSL            Yes          Yes   \n",
              "3  No phone service             DSL            Yes           No   \n",
              "4                No     Fiber optic             No           No   \n",
              "\n",
              "  Deviceprotection Techsupport Streamingtv Streamingmovies        Contract  \\\n",
              "0               No          No          No              No  Month-to-month   \n",
              "1              Yes          No          No              No        One year   \n",
              "2               No          No          No              No  Month-to-month   \n",
              "3              Yes         Yes          No              No        One year   \n",
              "4               No          No          No              No  Month-to-month   \n",
              "\n",
              "  Paperlessbilling              Paymentmethod  Monthlycharges Totalcharges  \\\n",
              "0              Yes           Electronic check           29.85        29.85   \n",
              "1               No               Mailed check           56.95       1889.5   \n",
              "2              Yes               Mailed check           53.85       108.15   \n",
              "3               No  Bank transfer (automatic)           42.30      1840.75   \n",
              "4              Yes           Electronic check           70.70       151.65   \n",
              "\n",
              "  Churn  \n",
              "0    No  \n",
              "1    No  \n",
              "2   Yes  \n",
              "3    No  \n",
              "4   Yes  "
            ],
            "text/html": [
              "\n",
              "  <div id=\"df-fa204ff0-ea4a-475c-83ac-d95d6bd281e6\">\n",
              "    <div class=\"colab-df-container\">\n",
              "      <div>\n",
              "<style scoped>\n",
              "    .dataframe tbody tr th:only-of-type {\n",
              "        vertical-align: middle;\n",
              "    }\n",
              "\n",
              "    .dataframe tbody tr th {\n",
              "        vertical-align: top;\n",
              "    }\n",
              "\n",
              "    .dataframe thead th {\n",
              "        text-align: right;\n",
              "    }\n",
              "</style>\n",
              "<table border=\"1\" class=\"dataframe\">\n",
              "  <thead>\n",
              "    <tr style=\"text-align: right;\">\n",
              "      <th></th>\n",
              "      <th>Customerid</th>\n",
              "      <th>Gender</th>\n",
              "      <th>Seniorcitizen</th>\n",
              "      <th>Partner</th>\n",
              "      <th>Dependents</th>\n",
              "      <th>Tenure</th>\n",
              "      <th>Phoneservice</th>\n",
              "      <th>Multiplelines</th>\n",
              "      <th>Internetservice</th>\n",
              "      <th>Onlinesecurity</th>\n",
              "      <th>Onlinebackup</th>\n",
              "      <th>Deviceprotection</th>\n",
              "      <th>Techsupport</th>\n",
              "      <th>Streamingtv</th>\n",
              "      <th>Streamingmovies</th>\n",
              "      <th>Contract</th>\n",
              "      <th>Paperlessbilling</th>\n",
              "      <th>Paymentmethod</th>\n",
              "      <th>Monthlycharges</th>\n",
              "      <th>Totalcharges</th>\n",
              "      <th>Churn</th>\n",
              "    </tr>\n",
              "  </thead>\n",
              "  <tbody>\n",
              "    <tr>\n",
              "      <th>0</th>\n",
              "      <td>7590-VHVEG</td>\n",
              "      <td>Female</td>\n",
              "      <td>0</td>\n",
              "      <td>Yes</td>\n",
              "      <td>No</td>\n",
              "      <td>1</td>\n",
              "      <td>No</td>\n",
              "      <td>No phone service</td>\n",
              "      <td>DSL</td>\n",
              "      <td>No</td>\n",
              "      <td>Yes</td>\n",
              "      <td>No</td>\n",
              "      <td>No</td>\n",
              "      <td>No</td>\n",
              "      <td>No</td>\n",
              "      <td>Month-to-month</td>\n",
              "      <td>Yes</td>\n",
              "      <td>Electronic check</td>\n",
              "      <td>29.85</td>\n",
              "      <td>29.85</td>\n",
              "      <td>No</td>\n",
              "    </tr>\n",
              "    <tr>\n",
              "      <th>1</th>\n",
              "      <td>5575-GNVDE</td>\n",
              "      <td>Male</td>\n",
              "      <td>0</td>\n",
              "      <td>No</td>\n",
              "      <td>No</td>\n",
              "      <td>34</td>\n",
              "      <td>Yes</td>\n",
              "      <td>No</td>\n",
              "      <td>DSL</td>\n",
              "      <td>Yes</td>\n",
              "      <td>No</td>\n",
              "      <td>Yes</td>\n",
              "      <td>No</td>\n",
              "      <td>No</td>\n",
              "      <td>No</td>\n",
              "      <td>One year</td>\n",
              "      <td>No</td>\n",
              "      <td>Mailed check</td>\n",
              "      <td>56.95</td>\n",
              "      <td>1889.5</td>\n",
              "      <td>No</td>\n",
              "    </tr>\n",
              "    <tr>\n",
              "      <th>2</th>\n",
              "      <td>3668-QPYBK</td>\n",
              "      <td>Male</td>\n",
              "      <td>0</td>\n",
              "      <td>No</td>\n",
              "      <td>No</td>\n",
              "      <td>2</td>\n",
              "      <td>Yes</td>\n",
              "      <td>No</td>\n",
              "      <td>DSL</td>\n",
              "      <td>Yes</td>\n",
              "      <td>Yes</td>\n",
              "      <td>No</td>\n",
              "      <td>No</td>\n",
              "      <td>No</td>\n",
              "      <td>No</td>\n",
              "      <td>Month-to-month</td>\n",
              "      <td>Yes</td>\n",
              "      <td>Mailed check</td>\n",
              "      <td>53.85</td>\n",
              "      <td>108.15</td>\n",
              "      <td>Yes</td>\n",
              "    </tr>\n",
              "    <tr>\n",
              "      <th>3</th>\n",
              "      <td>7795-CFOCW</td>\n",
              "      <td>Male</td>\n",
              "      <td>0</td>\n",
              "      <td>No</td>\n",
              "      <td>No</td>\n",
              "      <td>45</td>\n",
              "      <td>No</td>\n",
              "      <td>No phone service</td>\n",
              "      <td>DSL</td>\n",
              "      <td>Yes</td>\n",
              "      <td>No</td>\n",
              "      <td>Yes</td>\n",
              "      <td>Yes</td>\n",
              "      <td>No</td>\n",
              "      <td>No</td>\n",
              "      <td>One year</td>\n",
              "      <td>No</td>\n",
              "      <td>Bank transfer (automatic)</td>\n",
              "      <td>42.30</td>\n",
              "      <td>1840.75</td>\n",
              "      <td>No</td>\n",
              "    </tr>\n",
              "    <tr>\n",
              "      <th>4</th>\n",
              "      <td>9237-HQITU</td>\n",
              "      <td>Female</td>\n",
              "      <td>0</td>\n",
              "      <td>No</td>\n",
              "      <td>No</td>\n",
              "      <td>2</td>\n",
              "      <td>Yes</td>\n",
              "      <td>No</td>\n",
              "      <td>Fiber optic</td>\n",
              "      <td>No</td>\n",
              "      <td>No</td>\n",
              "      <td>No</td>\n",
              "      <td>No</td>\n",
              "      <td>No</td>\n",
              "      <td>No</td>\n",
              "      <td>Month-to-month</td>\n",
              "      <td>Yes</td>\n",
              "      <td>Electronic check</td>\n",
              "      <td>70.70</td>\n",
              "      <td>151.65</td>\n",
              "      <td>Yes</td>\n",
              "    </tr>\n",
              "  </tbody>\n",
              "</table>\n",
              "</div>\n",
              "      <button class=\"colab-df-convert\" onclick=\"convertToInteractive('df-fa204ff0-ea4a-475c-83ac-d95d6bd281e6')\"\n",
              "              title=\"Convert this dataframe to an interactive table.\"\n",
              "              style=\"display:none;\">\n",
              "        \n",
              "  <svg xmlns=\"http://www.w3.org/2000/svg\" height=\"24px\"viewBox=\"0 0 24 24\"\n",
              "       width=\"24px\">\n",
              "    <path d=\"M0 0h24v24H0V0z\" fill=\"none\"/>\n",
              "    <path d=\"M18.56 5.44l.94 2.06.94-2.06 2.06-.94-2.06-.94-.94-2.06-.94 2.06-2.06.94zm-11 1L8.5 8.5l.94-2.06 2.06-.94-2.06-.94L8.5 2.5l-.94 2.06-2.06.94zm10 10l.94 2.06.94-2.06 2.06-.94-2.06-.94-.94-2.06-.94 2.06-2.06.94z\"/><path d=\"M17.41 7.96l-1.37-1.37c-.4-.4-.92-.59-1.43-.59-.52 0-1.04.2-1.43.59L10.3 9.45l-7.72 7.72c-.78.78-.78 2.05 0 2.83L4 21.41c.39.39.9.59 1.41.59.51 0 1.02-.2 1.41-.59l7.78-7.78 2.81-2.81c.8-.78.8-2.07 0-2.86zM5.41 20L4 18.59l7.72-7.72 1.47 1.35L5.41 20z\"/>\n",
              "  </svg>\n",
              "      </button>\n",
              "      \n",
              "  <style>\n",
              "    .colab-df-container {\n",
              "      display:flex;\n",
              "      flex-wrap:wrap;\n",
              "      gap: 12px;\n",
              "    }\n",
              "\n",
              "    .colab-df-convert {\n",
              "      background-color: #E8F0FE;\n",
              "      border: none;\n",
              "      border-radius: 50%;\n",
              "      cursor: pointer;\n",
              "      display: none;\n",
              "      fill: #1967D2;\n",
              "      height: 32px;\n",
              "      padding: 0 0 0 0;\n",
              "      width: 32px;\n",
              "    }\n",
              "\n",
              "    .colab-df-convert:hover {\n",
              "      background-color: #E2EBFA;\n",
              "      box-shadow: 0px 1px 2px rgba(60, 64, 67, 0.3), 0px 1px 3px 1px rgba(60, 64, 67, 0.15);\n",
              "      fill: #174EA6;\n",
              "    }\n",
              "\n",
              "    [theme=dark] .colab-df-convert {\n",
              "      background-color: #3B4455;\n",
              "      fill: #D2E3FC;\n",
              "    }\n",
              "\n",
              "    [theme=dark] .colab-df-convert:hover {\n",
              "      background-color: #434B5C;\n",
              "      box-shadow: 0px 1px 3px 1px rgba(0, 0, 0, 0.15);\n",
              "      filter: drop-shadow(0px 1px 2px rgba(0, 0, 0, 0.3));\n",
              "      fill: #FFFFFF;\n",
              "    }\n",
              "  </style>\n",
              "\n",
              "      <script>\n",
              "        const buttonEl =\n",
              "          document.querySelector('#df-fa204ff0-ea4a-475c-83ac-d95d6bd281e6 button.colab-df-convert');\n",
              "        buttonEl.style.display =\n",
              "          google.colab.kernel.accessAllowed ? 'block' : 'none';\n",
              "\n",
              "        async function convertToInteractive(key) {\n",
              "          const element = document.querySelector('#df-fa204ff0-ea4a-475c-83ac-d95d6bd281e6');\n",
              "          const dataTable =\n",
              "            await google.colab.kernel.invokeFunction('convertToInteractive',\n",
              "                                                     [key], {});\n",
              "          if (!dataTable) return;\n",
              "\n",
              "          const docLinkHtml = 'Like what you see? Visit the ' +\n",
              "            '<a target=\"_blank\" href=https://colab.research.google.com/notebooks/data_table.ipynb>data table notebook</a>'\n",
              "            + ' to learn more about interactive tables.';\n",
              "          element.innerHTML = '';\n",
              "          dataTable['output_type'] = 'display_data';\n",
              "          await google.colab.output.renderOutput(dataTable, element);\n",
              "          const docLink = document.createElement('div');\n",
              "          docLink.innerHTML = docLinkHtml;\n",
              "          element.appendChild(docLink);\n",
              "        }\n",
              "      </script>\n",
              "    </div>\n",
              "  </div>\n",
              "  "
            ]
          },
          "metadata": {},
          "execution_count": 77
        }
      ],
      "source": [
        "df.head()"
      ]
    },
    {
      "cell_type": "code",
      "execution_count": 78,
      "id": "7247606b",
      "metadata": {
        "colab": {
          "base_uri": "https://localhost:8080/",
          "height": 113
        },
        "id": "7247606b",
        "outputId": "b37583d2-65af-4062-fa9b-ac21f4331a53"
      },
      "outputs": [
        {
          "output_type": "execute_result",
          "data": {
            "text/plain": [
              "Empty DataFrame\n",
              "Columns: [Customerid, Gender, Seniorcitizen, Partner, Dependents, Tenure, Phoneservice, Multiplelines, Internetservice, Onlinesecurity, Onlinebackup, Deviceprotection, Techsupport, Streamingtv, Streamingmovies, Contract, Paperlessbilling, Paymentmethod, Monthlycharges, Totalcharges, Churn]\n",
              "Index: []"
            ],
            "text/html": [
              "\n",
              "  <div id=\"df-63711037-f76a-4363-85ce-76063c899e66\">\n",
              "    <div class=\"colab-df-container\">\n",
              "      <div>\n",
              "<style scoped>\n",
              "    .dataframe tbody tr th:only-of-type {\n",
              "        vertical-align: middle;\n",
              "    }\n",
              "\n",
              "    .dataframe tbody tr th {\n",
              "        vertical-align: top;\n",
              "    }\n",
              "\n",
              "    .dataframe thead th {\n",
              "        text-align: right;\n",
              "    }\n",
              "</style>\n",
              "<table border=\"1\" class=\"dataframe\">\n",
              "  <thead>\n",
              "    <tr style=\"text-align: right;\">\n",
              "      <th></th>\n",
              "      <th>Customerid</th>\n",
              "      <th>Gender</th>\n",
              "      <th>Seniorcitizen</th>\n",
              "      <th>Partner</th>\n",
              "      <th>Dependents</th>\n",
              "      <th>Tenure</th>\n",
              "      <th>Phoneservice</th>\n",
              "      <th>Multiplelines</th>\n",
              "      <th>Internetservice</th>\n",
              "      <th>Onlinesecurity</th>\n",
              "      <th>Onlinebackup</th>\n",
              "      <th>Deviceprotection</th>\n",
              "      <th>Techsupport</th>\n",
              "      <th>Streamingtv</th>\n",
              "      <th>Streamingmovies</th>\n",
              "      <th>Contract</th>\n",
              "      <th>Paperlessbilling</th>\n",
              "      <th>Paymentmethod</th>\n",
              "      <th>Monthlycharges</th>\n",
              "      <th>Totalcharges</th>\n",
              "      <th>Churn</th>\n",
              "    </tr>\n",
              "  </thead>\n",
              "  <tbody>\n",
              "  </tbody>\n",
              "</table>\n",
              "</div>\n",
              "      <button class=\"colab-df-convert\" onclick=\"convertToInteractive('df-63711037-f76a-4363-85ce-76063c899e66')\"\n",
              "              title=\"Convert this dataframe to an interactive table.\"\n",
              "              style=\"display:none;\">\n",
              "        \n",
              "  <svg xmlns=\"http://www.w3.org/2000/svg\" height=\"24px\"viewBox=\"0 0 24 24\"\n",
              "       width=\"24px\">\n",
              "    <path d=\"M0 0h24v24H0V0z\" fill=\"none\"/>\n",
              "    <path d=\"M18.56 5.44l.94 2.06.94-2.06 2.06-.94-2.06-.94-.94-2.06-.94 2.06-2.06.94zm-11 1L8.5 8.5l.94-2.06 2.06-.94-2.06-.94L8.5 2.5l-.94 2.06-2.06.94zm10 10l.94 2.06.94-2.06 2.06-.94-2.06-.94-.94-2.06-.94 2.06-2.06.94z\"/><path d=\"M17.41 7.96l-1.37-1.37c-.4-.4-.92-.59-1.43-.59-.52 0-1.04.2-1.43.59L10.3 9.45l-7.72 7.72c-.78.78-.78 2.05 0 2.83L4 21.41c.39.39.9.59 1.41.59.51 0 1.02-.2 1.41-.59l7.78-7.78 2.81-2.81c.8-.78.8-2.07 0-2.86zM5.41 20L4 18.59l7.72-7.72 1.47 1.35L5.41 20z\"/>\n",
              "  </svg>\n",
              "      </button>\n",
              "      \n",
              "  <style>\n",
              "    .colab-df-container {\n",
              "      display:flex;\n",
              "      flex-wrap:wrap;\n",
              "      gap: 12px;\n",
              "    }\n",
              "\n",
              "    .colab-df-convert {\n",
              "      background-color: #E8F0FE;\n",
              "      border: none;\n",
              "      border-radius: 50%;\n",
              "      cursor: pointer;\n",
              "      display: none;\n",
              "      fill: #1967D2;\n",
              "      height: 32px;\n",
              "      padding: 0 0 0 0;\n",
              "      width: 32px;\n",
              "    }\n",
              "\n",
              "    .colab-df-convert:hover {\n",
              "      background-color: #E2EBFA;\n",
              "      box-shadow: 0px 1px 2px rgba(60, 64, 67, 0.3), 0px 1px 3px 1px rgba(60, 64, 67, 0.15);\n",
              "      fill: #174EA6;\n",
              "    }\n",
              "\n",
              "    [theme=dark] .colab-df-convert {\n",
              "      background-color: #3B4455;\n",
              "      fill: #D2E3FC;\n",
              "    }\n",
              "\n",
              "    [theme=dark] .colab-df-convert:hover {\n",
              "      background-color: #434B5C;\n",
              "      box-shadow: 0px 1px 3px 1px rgba(0, 0, 0, 0.15);\n",
              "      filter: drop-shadow(0px 1px 2px rgba(0, 0, 0, 0.3));\n",
              "      fill: #FFFFFF;\n",
              "    }\n",
              "  </style>\n",
              "\n",
              "      <script>\n",
              "        const buttonEl =\n",
              "          document.querySelector('#df-63711037-f76a-4363-85ce-76063c899e66 button.colab-df-convert');\n",
              "        buttonEl.style.display =\n",
              "          google.colab.kernel.accessAllowed ? 'block' : 'none';\n",
              "\n",
              "        async function convertToInteractive(key) {\n",
              "          const element = document.querySelector('#df-63711037-f76a-4363-85ce-76063c899e66');\n",
              "          const dataTable =\n",
              "            await google.colab.kernel.invokeFunction('convertToInteractive',\n",
              "                                                     [key], {});\n",
              "          if (!dataTable) return;\n",
              "\n",
              "          const docLinkHtml = 'Like what you see? Visit the ' +\n",
              "            '<a target=\"_blank\" href=https://colab.research.google.com/notebooks/data_table.ipynb>data table notebook</a>'\n",
              "            + ' to learn more about interactive tables.';\n",
              "          element.innerHTML = '';\n",
              "          dataTable['output_type'] = 'display_data';\n",
              "          await google.colab.output.renderOutput(dataTable, element);\n",
              "          const docLink = document.createElement('div');\n",
              "          docLink.innerHTML = docLinkHtml;\n",
              "          element.appendChild(docLink);\n",
              "        }\n",
              "      </script>\n",
              "    </div>\n",
              "  </div>\n",
              "  "
            ]
          },
          "metadata": {},
          "execution_count": 78
        }
      ],
      "source": [
        "# There are no duplicate row\n",
        "duplicate_cell = df[df.duplicated()]\n",
        "duplicate_cell"
      ]
    },
    {
      "cell_type": "code",
      "execution_count": 79,
      "id": "0c15639f",
      "metadata": {
        "colab": {
          "base_uri": "https://localhost:8080/",
          "height": 300
        },
        "id": "0c15639f",
        "outputId": "eb2b7503-42b5-43e0-b700-a37ee9316d6c"
      },
      "outputs": [
        {
          "output_type": "execute_result",
          "data": {
            "text/plain": [
              "       Seniorcitizen   Tenure  Monthlycharges\n",
              "count        7043.00  7043.00         7043.00\n",
              "mean            0.16    32.37           64.76\n",
              "std             0.37    24.56           30.09\n",
              "min             0.00     0.00           18.25\n",
              "25%             0.00     9.00           35.50\n",
              "50%             0.00    29.00           70.35\n",
              "75%             0.00    55.00           89.85\n",
              "max             1.00    72.00          118.75"
            ],
            "text/html": [
              "\n",
              "  <div id=\"df-18c71631-9f5e-4551-bc39-ef3b7f250b40\">\n",
              "    <div class=\"colab-df-container\">\n",
              "      <div>\n",
              "<style scoped>\n",
              "    .dataframe tbody tr th:only-of-type {\n",
              "        vertical-align: middle;\n",
              "    }\n",
              "\n",
              "    .dataframe tbody tr th {\n",
              "        vertical-align: top;\n",
              "    }\n",
              "\n",
              "    .dataframe thead th {\n",
              "        text-align: right;\n",
              "    }\n",
              "</style>\n",
              "<table border=\"1\" class=\"dataframe\">\n",
              "  <thead>\n",
              "    <tr style=\"text-align: right;\">\n",
              "      <th></th>\n",
              "      <th>Seniorcitizen</th>\n",
              "      <th>Tenure</th>\n",
              "      <th>Monthlycharges</th>\n",
              "    </tr>\n",
              "  </thead>\n",
              "  <tbody>\n",
              "    <tr>\n",
              "      <th>count</th>\n",
              "      <td>7043.00</td>\n",
              "      <td>7043.00</td>\n",
              "      <td>7043.00</td>\n",
              "    </tr>\n",
              "    <tr>\n",
              "      <th>mean</th>\n",
              "      <td>0.16</td>\n",
              "      <td>32.37</td>\n",
              "      <td>64.76</td>\n",
              "    </tr>\n",
              "    <tr>\n",
              "      <th>std</th>\n",
              "      <td>0.37</td>\n",
              "      <td>24.56</td>\n",
              "      <td>30.09</td>\n",
              "    </tr>\n",
              "    <tr>\n",
              "      <th>min</th>\n",
              "      <td>0.00</td>\n",
              "      <td>0.00</td>\n",
              "      <td>18.25</td>\n",
              "    </tr>\n",
              "    <tr>\n",
              "      <th>25%</th>\n",
              "      <td>0.00</td>\n",
              "      <td>9.00</td>\n",
              "      <td>35.50</td>\n",
              "    </tr>\n",
              "    <tr>\n",
              "      <th>50%</th>\n",
              "      <td>0.00</td>\n",
              "      <td>29.00</td>\n",
              "      <td>70.35</td>\n",
              "    </tr>\n",
              "    <tr>\n",
              "      <th>75%</th>\n",
              "      <td>0.00</td>\n",
              "      <td>55.00</td>\n",
              "      <td>89.85</td>\n",
              "    </tr>\n",
              "    <tr>\n",
              "      <th>max</th>\n",
              "      <td>1.00</td>\n",
              "      <td>72.00</td>\n",
              "      <td>118.75</td>\n",
              "    </tr>\n",
              "  </tbody>\n",
              "</table>\n",
              "</div>\n",
              "      <button class=\"colab-df-convert\" onclick=\"convertToInteractive('df-18c71631-9f5e-4551-bc39-ef3b7f250b40')\"\n",
              "              title=\"Convert this dataframe to an interactive table.\"\n",
              "              style=\"display:none;\">\n",
              "        \n",
              "  <svg xmlns=\"http://www.w3.org/2000/svg\" height=\"24px\"viewBox=\"0 0 24 24\"\n",
              "       width=\"24px\">\n",
              "    <path d=\"M0 0h24v24H0V0z\" fill=\"none\"/>\n",
              "    <path d=\"M18.56 5.44l.94 2.06.94-2.06 2.06-.94-2.06-.94-.94-2.06-.94 2.06-2.06.94zm-11 1L8.5 8.5l.94-2.06 2.06-.94-2.06-.94L8.5 2.5l-.94 2.06-2.06.94zm10 10l.94 2.06.94-2.06 2.06-.94-2.06-.94-.94-2.06-.94 2.06-2.06.94z\"/><path d=\"M17.41 7.96l-1.37-1.37c-.4-.4-.92-.59-1.43-.59-.52 0-1.04.2-1.43.59L10.3 9.45l-7.72 7.72c-.78.78-.78 2.05 0 2.83L4 21.41c.39.39.9.59 1.41.59.51 0 1.02-.2 1.41-.59l7.78-7.78 2.81-2.81c.8-.78.8-2.07 0-2.86zM5.41 20L4 18.59l7.72-7.72 1.47 1.35L5.41 20z\"/>\n",
              "  </svg>\n",
              "      </button>\n",
              "      \n",
              "  <style>\n",
              "    .colab-df-container {\n",
              "      display:flex;\n",
              "      flex-wrap:wrap;\n",
              "      gap: 12px;\n",
              "    }\n",
              "\n",
              "    .colab-df-convert {\n",
              "      background-color: #E8F0FE;\n",
              "      border: none;\n",
              "      border-radius: 50%;\n",
              "      cursor: pointer;\n",
              "      display: none;\n",
              "      fill: #1967D2;\n",
              "      height: 32px;\n",
              "      padding: 0 0 0 0;\n",
              "      width: 32px;\n",
              "    }\n",
              "\n",
              "    .colab-df-convert:hover {\n",
              "      background-color: #E2EBFA;\n",
              "      box-shadow: 0px 1px 2px rgba(60, 64, 67, 0.3), 0px 1px 3px 1px rgba(60, 64, 67, 0.15);\n",
              "      fill: #174EA6;\n",
              "    }\n",
              "\n",
              "    [theme=dark] .colab-df-convert {\n",
              "      background-color: #3B4455;\n",
              "      fill: #D2E3FC;\n",
              "    }\n",
              "\n",
              "    [theme=dark] .colab-df-convert:hover {\n",
              "      background-color: #434B5C;\n",
              "      box-shadow: 0px 1px 3px 1px rgba(0, 0, 0, 0.15);\n",
              "      filter: drop-shadow(0px 1px 2px rgba(0, 0, 0, 0.3));\n",
              "      fill: #FFFFFF;\n",
              "    }\n",
              "  </style>\n",
              "\n",
              "      <script>\n",
              "        const buttonEl =\n",
              "          document.querySelector('#df-18c71631-9f5e-4551-bc39-ef3b7f250b40 button.colab-df-convert');\n",
              "        buttonEl.style.display =\n",
              "          google.colab.kernel.accessAllowed ? 'block' : 'none';\n",
              "\n",
              "        async function convertToInteractive(key) {\n",
              "          const element = document.querySelector('#df-18c71631-9f5e-4551-bc39-ef3b7f250b40');\n",
              "          const dataTable =\n",
              "            await google.colab.kernel.invokeFunction('convertToInteractive',\n",
              "                                                     [key], {});\n",
              "          if (!dataTable) return;\n",
              "\n",
              "          const docLinkHtml = 'Like what you see? Visit the ' +\n",
              "            '<a target=\"_blank\" href=https://colab.research.google.com/notebooks/data_table.ipynb>data table notebook</a>'\n",
              "            + ' to learn more about interactive tables.';\n",
              "          element.innerHTML = '';\n",
              "          dataTable['output_type'] = 'display_data';\n",
              "          await google.colab.output.renderOutput(dataTable, element);\n",
              "          const docLink = document.createElement('div');\n",
              "          docLink.innerHTML = docLinkHtml;\n",
              "          element.appendChild(docLink);\n",
              "        }\n",
              "      </script>\n",
              "    </div>\n",
              "  </div>\n",
              "  "
            ]
          },
          "metadata": {},
          "execution_count": 79
        }
      ],
      "source": [
        "# basic statical information \n",
        "df.describe()\n",
        "# there are three numerical columns and reset are categorial variable"
      ]
    },
    {
      "cell_type": "code",
      "execution_count": 80,
      "id": "3e47f943",
      "metadata": {
        "colab": {
          "base_uri": "https://localhost:8080/"
        },
        "id": "3e47f943",
        "outputId": "a8012e76-79dc-4067-f640-c0b74a9ef963"
      },
      "outputs": [
        {
          "output_type": "stream",
          "name": "stdout",
          "text": [
            "<class 'pandas.core.frame.DataFrame'>\n",
            "RangeIndex: 7043 entries, 0 to 7042\n",
            "Data columns (total 21 columns):\n",
            " #   Column            Non-Null Count  Dtype  \n",
            "---  ------            --------------  -----  \n",
            " 0   Customerid        7043 non-null   object \n",
            " 1   Gender            7043 non-null   object \n",
            " 2   Seniorcitizen     7043 non-null   int64  \n",
            " 3   Partner           7043 non-null   object \n",
            " 4   Dependents        7043 non-null   object \n",
            " 5   Tenure            7043 non-null   int64  \n",
            " 6   Phoneservice      7043 non-null   object \n",
            " 7   Multiplelines     7043 non-null   object \n",
            " 8   Internetservice   7043 non-null   object \n",
            " 9   Onlinesecurity    7043 non-null   object \n",
            " 10  Onlinebackup      7043 non-null   object \n",
            " 11  Deviceprotection  7043 non-null   object \n",
            " 12  Techsupport       7043 non-null   object \n",
            " 13  Streamingtv       7043 non-null   object \n",
            " 14  Streamingmovies   7043 non-null   object \n",
            " 15  Contract          7043 non-null   object \n",
            " 16  Paperlessbilling  7043 non-null   object \n",
            " 17  Paymentmethod     7043 non-null   object \n",
            " 18  Monthlycharges    7043 non-null   float64\n",
            " 19  Totalcharges      7043 non-null   object \n",
            " 20  Churn             7043 non-null   object \n",
            "dtypes: float64(1), int64(2), object(18)\n",
            "memory usage: 1.1+ MB\n"
          ]
        }
      ],
      "source": [
        "\"\"\"\n",
        "Each row represents a customer, each column contains customer’s attributes described on the column Metadata.\n",
        "\n",
        "The data set includes information about:\n",
        "\n",
        "Customers who left within the last month – the column is called Churn\n",
        "Services that each customer has signed up for – phone, multiple lines, internet, online security, online backup, device protection, tech support, and streaming TV and movies\n",
        "Customer account information – how long they’ve been a customer, contract, payment method, paperless billing, monthly charges, and total charges\n",
        "Demographic info about customers – gender, age range, and if they have partners and dependents\n",
        "\n",
        "\"\"\"\n",
        "# check if the datatypes are okay or not\n",
        "df.info()"
      ]
    },
    {
      "cell_type": "code",
      "source": [
        "df.isnull().sum()"
      ],
      "metadata": {
        "colab": {
          "base_uri": "https://localhost:8080/"
        },
        "id": "vOrtNaW6nIxD",
        "outputId": "b0efbed7-c2a3-45b1-9b57-80cc1a5ea419"
      },
      "id": "vOrtNaW6nIxD",
      "execution_count": 81,
      "outputs": [
        {
          "output_type": "execute_result",
          "data": {
            "text/plain": [
              "Customerid          0\n",
              "Gender              0\n",
              "Seniorcitizen       0\n",
              "Partner             0\n",
              "Dependents          0\n",
              "Tenure              0\n",
              "Phoneservice        0\n",
              "Multiplelines       0\n",
              "Internetservice     0\n",
              "Onlinesecurity      0\n",
              "Onlinebackup        0\n",
              "Deviceprotection    0\n",
              "Techsupport         0\n",
              "Streamingtv         0\n",
              "Streamingmovies     0\n",
              "Contract            0\n",
              "Paperlessbilling    0\n",
              "Paymentmethod       0\n",
              "Monthlycharges      0\n",
              "Totalcharges        0\n",
              "Churn               0\n",
              "dtype: int64"
            ]
          },
          "metadata": {},
          "execution_count": 81
        }
      ]
    },
    {
      "cell_type": "code",
      "execution_count": 82,
      "id": "aa86c196",
      "metadata": {
        "id": "aa86c196"
      },
      "outputs": [],
      "source": [
        "only_phone_custmoer = df[(df[\"Phoneservice\"]==\"Yes\")& (df[\"Internetservice\"]== 'No')]\n",
        "only_internet_custmer = df[(df[\"Internetservice\"] == \"DSL\") | (df[\"Internetservice\"]==\"Fiber optic\") & (df[\"Phoneservice\"]==\"No\")]\n",
        "internet_custmer = df[(df[\"Internetservice\"] == \"DSL\") | (df[\"Internetservice\"]==\"Fiber optic\")]\n",
        "phone_internet_custmer = df[(df[\"Phoneservice\"] == \"Yes\") & (df[\"Internetservice\"] == \"DSL\") | (df[\"Internetservice\"]==\"Fiber optic\")]"
      ]
    },
    {
      "cell_type": "code",
      "execution_count": 83,
      "id": "813046b4",
      "metadata": {
        "colab": {
          "base_uri": "https://localhost:8080/"
        },
        "id": "813046b4",
        "outputId": "1db5cb04-5f4f-48b0-eb13-4b16ce1fe7cc"
      },
      "outputs": [
        {
          "output_type": "stream",
          "name": "stdout",
          "text": [
            "The total number of customer in dataset are 7043.\n",
            "The number of customer having phone and internet service 4835\n",
            "The number pf customer phone services are 1526.\n",
            "The number of customer having internet services 5517.\n",
            "The number pf customer only Internet services are 2421.\n"
          ]
        }
      ],
      "source": [
        "# Analysis of customer:\n",
        "print(\"The total number of customer in dataset are {}.\".format(df.shape[0]))\n",
        "print(\"The number of customer having phone and internet service {}\".format(phone_internet_custmer.shape[0]))\n",
        "print(\"The number pf customer phone services are {}.\".format(only_phone_custmoer.shape[0]))\n",
        "print(\"The number of customer having internet services {}.\".format(internet_custmer.shape[0]))\n",
        "print(\"The number pf customer only Internet services are {}.\".format(only_internet_custmer.shape[0]))"
      ]
    },
    {
      "cell_type": "code",
      "execution_count": 84,
      "id": "91b09026",
      "metadata": {
        "colab": {
          "base_uri": "https://localhost:8080/",
          "height": 143
        },
        "id": "91b09026",
        "outputId": "3792d443-dbc6-45a9-f84b-b52c48997303"
      },
      "outputs": [
        {
          "output_type": "execute_result",
          "data": {
            "text/plain": [
              "                 count   mean    std    min   25%    50%    75%     max\n",
              "Seniorcitizen   7043.0   0.16   0.37   0.00   0.0   0.00   0.00    1.00\n",
              "Tenure          7043.0  32.37  24.56   0.00   9.0  29.00  55.00   72.00\n",
              "Monthlycharges  7043.0  64.76  30.09  18.25  35.5  70.35  89.85  118.75"
            ],
            "text/html": [
              "\n",
              "  <div id=\"df-3ced0680-c8ac-407e-b2ac-ebdd40907c1b\">\n",
              "    <div class=\"colab-df-container\">\n",
              "      <div>\n",
              "<style scoped>\n",
              "    .dataframe tbody tr th:only-of-type {\n",
              "        vertical-align: middle;\n",
              "    }\n",
              "\n",
              "    .dataframe tbody tr th {\n",
              "        vertical-align: top;\n",
              "    }\n",
              "\n",
              "    .dataframe thead th {\n",
              "        text-align: right;\n",
              "    }\n",
              "</style>\n",
              "<table border=\"1\" class=\"dataframe\">\n",
              "  <thead>\n",
              "    <tr style=\"text-align: right;\">\n",
              "      <th></th>\n",
              "      <th>count</th>\n",
              "      <th>mean</th>\n",
              "      <th>std</th>\n",
              "      <th>min</th>\n",
              "      <th>25%</th>\n",
              "      <th>50%</th>\n",
              "      <th>75%</th>\n",
              "      <th>max</th>\n",
              "    </tr>\n",
              "  </thead>\n",
              "  <tbody>\n",
              "    <tr>\n",
              "      <th>Seniorcitizen</th>\n",
              "      <td>7043.0</td>\n",
              "      <td>0.16</td>\n",
              "      <td>0.37</td>\n",
              "      <td>0.00</td>\n",
              "      <td>0.0</td>\n",
              "      <td>0.00</td>\n",
              "      <td>0.00</td>\n",
              "      <td>1.00</td>\n",
              "    </tr>\n",
              "    <tr>\n",
              "      <th>Tenure</th>\n",
              "      <td>7043.0</td>\n",
              "      <td>32.37</td>\n",
              "      <td>24.56</td>\n",
              "      <td>0.00</td>\n",
              "      <td>9.0</td>\n",
              "      <td>29.00</td>\n",
              "      <td>55.00</td>\n",
              "      <td>72.00</td>\n",
              "    </tr>\n",
              "    <tr>\n",
              "      <th>Monthlycharges</th>\n",
              "      <td>7043.0</td>\n",
              "      <td>64.76</td>\n",
              "      <td>30.09</td>\n",
              "      <td>18.25</td>\n",
              "      <td>35.5</td>\n",
              "      <td>70.35</td>\n",
              "      <td>89.85</td>\n",
              "      <td>118.75</td>\n",
              "    </tr>\n",
              "  </tbody>\n",
              "</table>\n",
              "</div>\n",
              "      <button class=\"colab-df-convert\" onclick=\"convertToInteractive('df-3ced0680-c8ac-407e-b2ac-ebdd40907c1b')\"\n",
              "              title=\"Convert this dataframe to an interactive table.\"\n",
              "              style=\"display:none;\">\n",
              "        \n",
              "  <svg xmlns=\"http://www.w3.org/2000/svg\" height=\"24px\"viewBox=\"0 0 24 24\"\n",
              "       width=\"24px\">\n",
              "    <path d=\"M0 0h24v24H0V0z\" fill=\"none\"/>\n",
              "    <path d=\"M18.56 5.44l.94 2.06.94-2.06 2.06-.94-2.06-.94-.94-2.06-.94 2.06-2.06.94zm-11 1L8.5 8.5l.94-2.06 2.06-.94-2.06-.94L8.5 2.5l-.94 2.06-2.06.94zm10 10l.94 2.06.94-2.06 2.06-.94-2.06-.94-.94-2.06-.94 2.06-2.06.94z\"/><path d=\"M17.41 7.96l-1.37-1.37c-.4-.4-.92-.59-1.43-.59-.52 0-1.04.2-1.43.59L10.3 9.45l-7.72 7.72c-.78.78-.78 2.05 0 2.83L4 21.41c.39.39.9.59 1.41.59.51 0 1.02-.2 1.41-.59l7.78-7.78 2.81-2.81c.8-.78.8-2.07 0-2.86zM5.41 20L4 18.59l7.72-7.72 1.47 1.35L5.41 20z\"/>\n",
              "  </svg>\n",
              "      </button>\n",
              "      \n",
              "  <style>\n",
              "    .colab-df-container {\n",
              "      display:flex;\n",
              "      flex-wrap:wrap;\n",
              "      gap: 12px;\n",
              "    }\n",
              "\n",
              "    .colab-df-convert {\n",
              "      background-color: #E8F0FE;\n",
              "      border: none;\n",
              "      border-radius: 50%;\n",
              "      cursor: pointer;\n",
              "      display: none;\n",
              "      fill: #1967D2;\n",
              "      height: 32px;\n",
              "      padding: 0 0 0 0;\n",
              "      width: 32px;\n",
              "    }\n",
              "\n",
              "    .colab-df-convert:hover {\n",
              "      background-color: #E2EBFA;\n",
              "      box-shadow: 0px 1px 2px rgba(60, 64, 67, 0.3), 0px 1px 3px 1px rgba(60, 64, 67, 0.15);\n",
              "      fill: #174EA6;\n",
              "    }\n",
              "\n",
              "    [theme=dark] .colab-df-convert {\n",
              "      background-color: #3B4455;\n",
              "      fill: #D2E3FC;\n",
              "    }\n",
              "\n",
              "    [theme=dark] .colab-df-convert:hover {\n",
              "      background-color: #434B5C;\n",
              "      box-shadow: 0px 1px 3px 1px rgba(0, 0, 0, 0.15);\n",
              "      filter: drop-shadow(0px 1px 2px rgba(0, 0, 0, 0.3));\n",
              "      fill: #FFFFFF;\n",
              "    }\n",
              "  </style>\n",
              "\n",
              "      <script>\n",
              "        const buttonEl =\n",
              "          document.querySelector('#df-3ced0680-c8ac-407e-b2ac-ebdd40907c1b button.colab-df-convert');\n",
              "        buttonEl.style.display =\n",
              "          google.colab.kernel.accessAllowed ? 'block' : 'none';\n",
              "\n",
              "        async function convertToInteractive(key) {\n",
              "          const element = document.querySelector('#df-3ced0680-c8ac-407e-b2ac-ebdd40907c1b');\n",
              "          const dataTable =\n",
              "            await google.colab.kernel.invokeFunction('convertToInteractive',\n",
              "                                                     [key], {});\n",
              "          if (!dataTable) return;\n",
              "\n",
              "          const docLinkHtml = 'Like what you see? Visit the ' +\n",
              "            '<a target=\"_blank\" href=https://colab.research.google.com/notebooks/data_table.ipynb>data table notebook</a>'\n",
              "            + ' to learn more about interactive tables.';\n",
              "          element.innerHTML = '';\n",
              "          dataTable['output_type'] = 'display_data';\n",
              "          await google.colab.output.renderOutput(dataTable, element);\n",
              "          const docLink = document.createElement('div');\n",
              "          docLink.innerHTML = docLinkHtml;\n",
              "          element.appendChild(docLink);\n",
              "        }\n",
              "      </script>\n",
              "    </div>\n",
              "  </div>\n",
              "  "
            ]
          },
          "metadata": {},
          "execution_count": 84
        }
      ],
      "source": [
        "#Descriptive statistics of the dataset\n",
        "df.describe().T"
      ]
    },
    {
      "cell_type": "code",
      "execution_count": 85,
      "id": "ab7196c0",
      "metadata": {
        "colab": {
          "base_uri": "https://localhost:8080/"
        },
        "id": "ab7196c0",
        "outputId": "ba090bfd-8aca-4415-9858-9074b4379786"
      },
      "outputs": [
        {
          "output_type": "execute_result",
          "data": {
            "text/plain": [
              "Index(['Customerid', 'Gender', 'Seniorcitizen', 'Partner', 'Dependents',\n",
              "       'Tenure', 'Phoneservice', 'Multiplelines', 'Internetservice',\n",
              "       'Onlinesecurity', 'Onlinebackup', 'Deviceprotection', 'Techsupport',\n",
              "       'Streamingtv', 'Streamingmovies', 'Contract', 'Paperlessbilling',\n",
              "       'Paymentmethod', 'Monthlycharges', 'Totalcharges', 'Churn'],\n",
              "      dtype='object')"
            ]
          },
          "metadata": {},
          "execution_count": 85
        }
      ],
      "source": [
        "df.columns"
      ]
    },
    {
      "cell_type": "code",
      "execution_count": 86,
      "id": "4c83a032",
      "metadata": {
        "id": "4c83a032"
      },
      "outputs": [],
      "source": [
        "# The type change\n",
        "df['Totalcharges'] = pd.to_numeric(df['Totalcharges'],errors='coerce')\n",
        "df[\"Totalcharges\"] = df[\"Totalcharges\"].astype(float)"
      ]
    },
    {
      "cell_type": "code",
      "execution_count": 87,
      "id": "882e0572",
      "metadata": {
        "colab": {
          "base_uri": "https://localhost:8080/",
          "height": 513
        },
        "id": "882e0572",
        "outputId": "99888a28-6582-4b4c-f683-9fa331990dce"
      },
      "outputs": [
        {
          "output_type": "display_data",
          "data": {
            "text/plain": [
              "<Figure size 720x504 with 4 Axes>"
            ],
            "image/png": "[encoded data removed]"
          },
          "metadata": {
            "needs_background": "light"
          }
        }
      ],
      "source": [
        "fig, axes = plt.subplots(nrows=2, ncols=2,figsize=(10,7))\n",
        "axes[0,0].set_title('Count--Tenure')\n",
        "axes[0,1].set_title('DistributionPlot-Monthlycharges')\n",
        "axes[1,0].set_title('Count--Gender')\n",
        "axes[1,1].set_title('DistributionPlot--Churn')\n",
        "\n",
        "\n",
        "sn.boxplot(df.Tenure, orient='v',ax=axes[0,0])\n",
        "sn.distplot(df.Monthlycharges,ax=axes[0,1]) \n",
        "sn.countplot(x ='Gender', data = df, ax=axes[1,0])\n",
        "# sn.boxplot(df['Gender'], ax = axes[1,0])\n",
        "sn.countplot(y ='Churn', data = df, orient='h',ax=axes[1,1])\n",
        "fig.tight_layout();  # this reduces the space in between the subplots"
      ]
    },
    {
      "cell_type": "code",
      "execution_count": 88,
      "id": "bae3d234",
      "metadata": {
        "colab": {
          "base_uri": "https://localhost:8080/",
          "height": 279
        },
        "id": "bae3d234",
        "outputId": "eae842f1-72b9-41da-ae1a-677c0d558637"
      },
      "outputs": [
        {
          "output_type": "display_data",
          "data": {
            "text/plain": [
              "<Figure size 432x288 with 1 Axes>"
            ],
            "image/png": "[encoded data removed]"
          },
          "metadata": {
            "needs_background": "light"
          }
        }
      ],
      "source": [
        "ax = sn.countplot(x=\"Gender\", hue=\"Churn\", data=df)"
      ]
    },
    {
      "cell_type": "code",
      "execution_count": 89,
      "id": "b60f476f",
      "metadata": {
        "colab": {
          "base_uri": "https://localhost:8080/"
        },
        "id": "b60f476f",
        "outputId": "5d07b2db-4ae7-4ef3-e6a0-18268871df02"
      },
      "outputs": [
        {
          "output_type": "execute_result",
          "data": {
            "text/plain": [
              "count    7043.00\n",
              "mean       32.37\n",
              "std        24.56\n",
              "min         0.00\n",
              "25%         9.00\n",
              "50%        29.00\n",
              "75%        55.00\n",
              "max        72.00\n",
              "Name: Tenure, dtype: float64"
            ]
          },
          "metadata": {},
          "execution_count": 89
        }
      ],
      "source": [
        "# tenure:\n",
        "df.Tenure.describe()"
      ]
    },
    {
      "cell_type": "code",
      "execution_count": 89,
      "id": "a403fea6",
      "metadata": {
        "id": "a403fea6"
      },
      "outputs": [],
      "source": [
        ""
      ]
    },
    {
      "cell_type": "code",
      "execution_count": 90,
      "id": "e9c18392",
      "metadata": {
        "colab": {
          "base_uri": "https://localhost:8080/",
          "height": 210
        },
        "id": "e9c18392",
        "outputId": "0799ac52-b2b6-40e1-a73a-ffe45250929f"
      },
      "outputs": [
        {
          "output_type": "execute_result",
          "data": {
            "text/plain": [
              "<seaborn.axisgrid.FacetGrid at 0x7f3545c40750>"
            ]
          },
          "metadata": {},
          "execution_count": 90
        },
        {
          "output_type": "display_data",
          "data": {
            "text/plain": [
              "<Figure size 1440x360 with 1 Axes>"
            ],
            "image/png": "[encoded data removed]"
          },
          "metadata": {
            "needs_background": "light"
          }
        }
      ],
      "source": [
        "pl = sn.factorplot('Tenure',data=df, aspect=4,kind='count')\n",
        "pl.set_xticklabels(step=5)"
      ]
    },
    {
      "cell_type": "code",
      "execution_count": 91,
      "id": "4fe3c6ae",
      "metadata": {
        "colab": {
          "base_uri": "https://localhost:8080/",
          "height": 772
        },
        "id": "4fe3c6ae",
        "outputId": "67261691-1745-4d8c-c945-70d8aece9c34"
      },
      "outputs": [
        {
          "output_type": "execute_result",
          "data": {
            "text/plain": [
              "<matplotlib.axes._subplots.AxesSubplot at 0x7f3545bd5d90>"
            ]
          },
          "metadata": {},
          "execution_count": 91
        },
        {
          "output_type": "display_data",
          "data": {
            "text/plain": [
              "<Figure size 1080x1080 with 2 Axes>"
            ],
            "image/png": "[encoded data removed]"
          },
          "metadata": {
            "needs_background": "light"
          }
        }
      ],
      "source": [
        "corr=df.corr(method='spearman')\n",
        "plt.figure(figsize=(15,15))\n",
        "sn.heatmap(corr,vmax=.8,linewidths=0.01,square=True,annot=True,cmap='RdBu',linecolor='black')"
      ]
    },
    {
      "cell_type": "code",
      "execution_count": 92,
      "id": "f05f5e83",
      "metadata": {
        "id": "f05f5e83"
      },
      "outputs": [],
      "source": [
        "# dependent and independent variable\n",
        "\n",
        "x = df.drop([\"Churn\", \"Customerid\"], axis =1)\n",
        "y = pd.DataFrame(df.iloc[:, -1])"
      ]
    },
    {
      "cell_type": "code",
      "source": [
        "df2 = x.copy()"
      ],
      "metadata": {
        "id": "TWHAPErt0MWi"
      },
      "id": "TWHAPErt0MWi",
      "execution_count": 93,
      "outputs": []
    },
    {
      "cell_type": "code",
      "source": [
        "# seperate categorical variables\n",
        "# numerical_data = df2.select_dtypes(include=[np.number])\n",
        "# categorical_data = df2.select_dtypes(exclude=[np.number])"
      ],
      "metadata": {
        "id": "paXsOZYp3aSB"
      },
      "id": "paXsOZYp3aSB",
      "execution_count": 94,
      "outputs": []
    },
    {
      "cell_type": "code",
      "source": [
        "# categorical_column_list = [column for column in categorical_data.columns]"
      ],
      "metadata": {
        "id": "3jfjlvv3AQsx"
      },
      "id": "3jfjlvv3AQsx",
      "execution_count": 95,
      "outputs": []
    },
    {
      "cell_type": "code",
      "source": [
        "# print(categorical_column_list)\n",
        "# print(type(categorical_column_list))"
      ],
      "metadata": {
        "id": "dVsCjYZxAaUk"
      },
      "id": "dVsCjYZxAaUk",
      "execution_count": 96,
      "outputs": []
    },
    {
      "cell_type": "code",
      "source": [
        "# encode_categorical_data = pd.get_dummies(x)\n",
        "x = pd.get_dummies(x, drop_first= True)\n",
        "y = pd.get_dummies(y, drop_first=True)"
      ],
      "metadata": {
        "id": "pbJoGij932DT"
      },
      "id": "pbJoGij932DT",
      "execution_count": 97,
      "outputs": []
    },
    {
      "cell_type": "code",
      "source": [
        "x.shape"
      ],
      "metadata": {
        "colab": {
          "base_uri": "https://localhost:8080/"
        },
        "id": "wJFpLoRg_i8t",
        "outputId": "7f422876-73b4-4e98-e44a-fa046ec7d1c4"
      },
      "id": "wJFpLoRg_i8t",
      "execution_count": 98,
      "outputs": [
        {
          "output_type": "execute_result",
          "data": {
            "text/plain": [
              "(7043, 30)"
            ]
          },
          "metadata": {},
          "execution_count": 98
        }
      ]
    },
    {
      "cell_type": "code",
      "source": [
        "[x for x in x.columns]"
      ],
      "metadata": {
        "colab": {
          "base_uri": "https://localhost:8080/"
        },
        "id": "Ld4x3D8W1dUe",
        "outputId": "d3276e51-7b60-4e56-9ba1-02966833e613"
      },
      "id": "Ld4x3D8W1dUe",
      "execution_count": 99,
      "outputs": [
        {
          "output_type": "execute_result",
          "data": {
            "text/plain": [
              "['Seniorcitizen',\n",
              " 'Tenure',\n",
              " 'Monthlycharges',\n",
              " 'Totalcharges',\n",
              " 'Gender_Male',\n",
              " 'Partner_Yes',\n",
              " 'Dependents_Yes',\n",
              " 'Phoneservice_Yes',\n",
              " 'Multiplelines_No phone service',\n",
              " 'Multiplelines_Yes',\n",
              " 'Internetservice_Fiber optic',\n",
              " 'Internetservice_No',\n",
              " 'Onlinesecurity_No internet service',\n",
              " 'Onlinesecurity_Yes',\n",
              " 'Onlinebackup_No internet service',\n",
              " 'Onlinebackup_Yes',\n",
              " 'Deviceprotection_No internet service',\n",
              " 'Deviceprotection_Yes',\n",
              " 'Techsupport_No internet service',\n",
              " 'Techsupport_Yes',\n",
              " 'Streamingtv_No internet service',\n",
              " 'Streamingtv_Yes',\n",
              " 'Streamingmovies_No internet service',\n",
              " 'Streamingmovies_Yes',\n",
              " 'Contract_One year',\n",
              " 'Contract_Two year',\n",
              " 'Paperlessbilling_Yes',\n",
              " 'Paymentmethod_Credit card (automatic)',\n",
              " 'Paymentmethod_Electronic check',\n",
              " 'Paymentmethod_Mailed check']"
            ]
          },
          "metadata": {},
          "execution_count": 99
        }
      ]
    },
    {
      "cell_type": "code",
      "source": [
        "x.columns[x.isna().any()]\n",
        "x.Totalcharges = x.Totalcharges.fillna(x.Totalcharges.mean())"
      ],
      "metadata": {
        "id": "HpbKQaT6HKjH"
      },
      "id": "HpbKQaT6HKjH",
      "execution_count": 100,
      "outputs": []
    },
    {
      "cell_type": "code",
      "execution_count": 101,
      "id": "44ffefd5",
      "metadata": {
        "id": "44ffefd5"
      },
      "outputs": [],
      "source": [
        "#train splip\n",
        "X_train, X_test, y_train, y_test = train_test_split(x, y, test_size = 0.20, random_state = 0)"
      ]
    },
    {
      "cell_type": "markdown",
      "source": [
        ""
      ],
      "metadata": {
        "id": "YaX3jgwh0i1B"
      },
      "id": "YaX3jgwh0i1B"
    },
    {
      "cell_type": "code",
      "execution_count": 102,
      "id": "69fc4ea3",
      "metadata": {
        "id": "69fc4ea3",
        "colab": {
          "base_uri": "https://localhost:8080/"
        },
        "outputId": "a4a2718a-e189-4eb9-9b6d-937e81251860"
      },
      "outputs": [
        {
          "output_type": "stream",
          "name": "stdout",
          "text": [
            "The training dataset is (5634, 30).\n",
            "The testing dataset is (1409, 30).\n",
            "The y train dataset is (5634, 1).\n",
            "The y test dataset is (1409, 1).\n"
          ]
        }
      ],
      "source": [
        "print(\"The training dataset is {}.\".format(X_train.shape))\n",
        "print(\"The testing dataset is {}.\".format(X_test.shape))\n",
        "print(\"The y train dataset is {}.\".format(y_train.shape))\n",
        "print(\"The y test dataset is {}.\".format(y_test.shape))"
      ]
    },
    {
      "cell_type": "code",
      "execution_count": 103,
      "id": "8e39a349",
      "metadata": {
        "id": "8e39a349"
      },
      "outputs": [],
      "source": [
        "# #Giving new values to the \"Contract\" variable\n",
        "\n",
        "# df[\"Contract\"].replace(\"Month-to-month\",1,inplace=True)\n",
        "# df[\"Contract\"].replace(\"One year\",12,inplace=True)\n",
        "# df[\"Contract\"].replace(\"Two year\",24,inplace=True)\n",
        "# df[\"Contract\"] = df[\"Contract\"].astype(int)\n",
        "\n",
        "# df[\"Gender\"].replace(\"Female\", 0, inplace =True)\n",
        "# df[\"Gender\"].replace(\"Male\", 1, inplace = True)\n",
        "\n",
        "# df[\"Partner\"].replace(\"Yes\", 1, inplace =True)\n",
        "# df[\"Partner\"].replace(\"No\", 0, inplace =True)\n",
        "\n",
        "# df[\"Dependents\"].replace(\"Yes\", 1, inplace =True),\n",
        "# df[\"Dependents\"].replace(\"No\", 0, inplace =True)\n",
        "\n",
        "# df[\"Phoneservice\"].replace(\"Yes\", 1, inplace =True),\n",
        "# df[\"Phoneservice\"].replace(\"No\", 0, inplace =True)\n",
        "\n",
        "\n",
        "# df[\"Multiplelines\"].replace(\"No phone service\", -1, inplace =True),\n",
        "# df[\"Multiplelines\"].replace(\"Yes\", 1, inplace =True)\n",
        "# df[\"Multiplelines\"].replace(\"No\", 0, inplace =True)\n",
        "\n",
        "# df[\"Onlinebackup\"].replace(\"No internet service\", -1, inplace =True),\n",
        "# df[\"Onlinebackup\"].replace(\"Yes\", 1, inplace =True)\n",
        "# df[\"Onlinebackup\"].replace(\"No\", 0, inplace =True)\n",
        "\n",
        "# df[\"Onlinesecurity\"].replace(\"No internet service\", -1, inplace =True),\n",
        "# df[\"Onlinesecurity\"].replace(\"Yes\", 1, inplace =True)\n",
        "# df[\"Onlinesecurity\"].replace(\"No\", 0, inplace =True)\n",
        "\n",
        "# df[\"Deviceprotection\"].replace(\"No internet service\", -1, inplace =True),\n",
        "# df[\"Deviceprotection\"].replace(\"Yes\", 1, inplace =True)\n",
        "# df[\"Deviceprotection\"].replace(\"No\", 0, inplace =True)\n",
        "\n",
        "\n",
        "# df[\"Techsupport\"].replace(\"No internet service\", -1, inplace =True),\n",
        "# df[\"Techsupport\"].replace(\"Yes\", 1, inplace =True)\n",
        "# df[\"Techsupport\"].replace(\"No\", 0, inplace =True)\n",
        "                          \n",
        "# df[\"Streamingtv\"].replace(\"No internet service\", -1, inplace =True),\n",
        "# df[\"Streamingtv\"].replace(\"Yes\", 1, inplace =True)\n",
        "# df[\"Streamingtv\"].replace(\"No\", 0, inplace =True)\n",
        "\n",
        "# df[\"Streamingmovies\"].replace(\"No internet service\", -1, inplace =True),\n",
        "# df[\"Streamingmovies\"].replace(\"Yes\", 1, inplace =True)\n",
        "# df[\"Streamingmovies\"].replace(\"No\", 0, inplace =True)\n",
        "\n",
        "# df[\"Paperlessbilling\"].replace(\"Yes\", 1, inplace =True),\n",
        "# df[\"Paperlessbilling\"].replace(\"No\", 0, inplace =True)\n",
        "\n",
        "# df[\"Paymentmethod\"].replace(\"Electronic check\", 1, inplace =True),\n",
        "# df[\"Paymentmethod\"].replace(\"Mailed check\", 2, inplace =True)\n",
        "# df[\"Paymentmethod\"].replace(\"Bank transfer (automatic)\", 3, inplace =True)\n",
        "# df[\"Paymentmethod\"].replace(\"Credit card (automatic)\", 4, inplace =True)"
      ]
    },
    {
      "cell_type": "code",
      "execution_count": 104,
      "id": "9847279c",
      "metadata": {
        "id": "9847279c",
        "colab": {
          "base_uri": "https://localhost:8080/"
        },
        "outputId": "56a8ee93-0894-4e61-fe97-dd7e39ee1385"
      },
      "outputs": [
        {
          "output_type": "execute_result",
          "data": {
            "text/plain": [
              "array(['Electronic check', 'Mailed check', 'Bank transfer (automatic)',\n",
              "       'Credit card (automatic)'], dtype=object)"
            ]
          },
          "metadata": {},
          "execution_count": 104
        }
      ],
      "source": [
        "df.Paymentmethod.unique()"
      ]
    },
    {
      "cell_type": "code",
      "source": [
        "def classifier(clf, x_train,x_test,y_train,y_test):\n",
        "    y_test_pred = clf.predict(x_test)\n",
        "    y_train_pred = clf.predict(x_train)\n",
        "    \n",
        "    accuracy_test = accuracy_score(y_test,y_test_pred)\n",
        "    accuracy_train =  accuracy_score(y_train,y_train_pred)\n",
        "    \n",
        "    roc_test = roc_auc_score(y_test, y_test_pred, multi_class='ovr')\n",
        "    roc_train = roc_auc_score(y_train, y_train_pred, multi_class='ovr')\n",
        "    \n",
        "    print('Train accuracy is:',accuracy_train )\n",
        "    print('Test accuracy is:',accuracy_test )\n",
        "    print('Train ROC is:', roc_train)\n",
        "    print('Test ROC is:',roc_test )\n",
        "    \n",
        "    # Fscore, precision and recall on test data\n",
        "    f1 = f1_score(y_test, y_test_pred)\n",
        "    precision = precision_score(y_test, y_test_pred)\n",
        "    recall = recall_score(y_test, y_test_pred) \n",
        "    print(\"F score is:\",f1 )\n",
        "    print(\"Precision is:\",precision)\n",
        "    print(\"Recall is:\", recall)\n",
        "    return  y_train_pred ,  y_test_pred \n",
        "\n",
        "# Draw ROC curve from training and test data probability\n",
        "def draw_roc( train_actual, train_probs, test_actual, test_probs ):\n",
        "    train_fpr, train_tpr, train_thresholds = metrics.roc_curve( train_actual, train_probs,\n",
        "                                              drop_intermediate = False )\n",
        "    test_fpr, test_tpr, test_thresholds = metrics.roc_curve( test_actual, test_probs,\n",
        "                                              drop_intermediate = False )\n",
        "    train_auc_score = metrics.roc_auc_score( train_actual, train_probs )\n",
        "    test_auc_score = metrics.roc_auc_score( test_actual, test_probs )\n",
        "    plt.figure(figsize=(5, 5))\n",
        "    plt.plot( train_fpr, train_tpr, label='ROC curve (area = %0.2f)' % train_auc_score )\n",
        "    plt.plot( test_fpr, test_tpr, label='ROC curve (area = %0.2f)' % test_auc_score )\n",
        "    plt.plot([0, 1], [0, 1], 'k--')\n",
        "    plt.xlim([0.0, 1.0])\n",
        "    plt.ylim([0.0, 1.05])\n",
        "    plt.xlabel('False Positive Rate or [1 - True Negative Rate]')\n",
        "    plt.ylabel('True Positive Rate')\n",
        "    plt.title('Receiver operating characteristic example')\n",
        "    plt.legend(loc=\"lower right\")\n",
        "    plt.show()\n",
        "\n",
        "    return None\n",
        "\n",
        "def prediction_model(model, x_test, y_test):\n",
        "     \n",
        "    predict = model.predict(x_test)\n",
        "    accuracy = accuracy_score(y_test, predict)\n",
        "    print(model.__class__.__name__+\"\\t = %0.3f \" % accuracy)"
      ],
      "metadata": {
        "id": "Ny7QdZR_L79a"
      },
      "id": "Ny7QdZR_L79a",
      "execution_count": 138,
      "outputs": []
    },
    {
      "cell_type": "code",
      "execution_count": 105,
      "id": "befb68c2",
      "metadata": {
        "id": "befb68c2"
      },
      "outputs": [],
      "source": [
        "# # Build model\n",
        "# #import models\n",
        "# from sklearn.naive_bayes import GaussianNB\n",
        "# from sklearn.model_selection import cross_val_score\n",
        "# clf = GaussianNB()\n",
        "# clf.fit(X_train, y_train)\n",
        "# clf.score(X_test,y_test)"
      ]
    },
    {
      "cell_type": "code",
      "execution_count": 134,
      "id": "f9232337",
      "metadata": {
        "id": "f9232337"
      },
      "outputs": [],
      "source": [
        "from sklearn.metrics import confusion_matrix\n",
        "from sklearn.metrics import plot_confusion_matrix\n",
        "from sklearn.metrics import accuracy_score, f1_score, precision_score, recall_score, classification_report, confusion_matrix,r2_score\n",
        "from sklearn.metrics import roc_auc_score\n",
        "from sklearn import metrics\n",
        "from sklearn.ensemble import RandomForestClassifier\n",
        "from xgboost import XGBClassifier"
      ]
    },
    {
      "cell_type": "code",
      "execution_count": 124,
      "id": "ffb4ee24",
      "metadata": {
        "id": "ffb4ee24",
        "colab": {
          "base_uri": "https://localhost:8080/",
          "height": 741
        },
        "outputId": "3b47b1a6-8c32-415d-fc14-f7f755a6baac"
      },
      "outputs": [
        {
          "output_type": "stream",
          "name": "stdout",
          "text": [
            "Train accuracy is: 0.8052893148739794\n",
            "Test accuracy is: 0.794180269694819\n",
            "Train ROC is: 0.7226124595055832\n",
            "Test ROC is: 0.6982090276907655\n",
            "F score is: 0.5579268292682926\n",
            "Precision is: 0.6354166666666666\n",
            "Recall is: 0.49728260869565216\n"
          ]
        },
        {
          "output_type": "display_data",
          "data": {
            "text/plain": [
              "<Figure size 360x360 with 1 Axes>"
            ],
            "image/png": "[encoded data removed]"
          },
          "metadata": {
            "needs_background": "light"
          }
        },
        {
          "output_type": "display_data",
          "data": {
            "text/plain": [
              "<Figure size 432x288 with 2 Axes>"
            ],
            "image/png": "[encoded data removed]"
          },
          "metadata": {
            "needs_background": "light"
          }
        }
      ],
      "source": [
        "from sklearn.linear_model import LogisticRegression\n",
        "logreg = LogisticRegression(solver='lbfgs', random_state = 100)\n",
        "logreg = logreg.fit(X_train, y_train)\n",
        "y_train_pred,y_test_pred = classifier(logreg, X_train, X_test, y_train, y_test)\n",
        "draw_roc(y_train,y_train_pred,y_test,y_test_pred)\n",
        "\n",
        "cf_matrix = confusion_matrix(y_test, y_test_pred )\n",
        "sn.heatmap(cf_matrix, annot=True, fmt=\"d\")\n",
        "plt.title(\"Confusion Matrix\", fontsize=20)\n",
        "plt.show()"
      ]
    },
    {
      "cell_type": "code",
      "execution_count": 128,
      "id": "c5344e58",
      "metadata": {
        "id": "c5344e58",
        "colab": {
          "base_uri": "https://localhost:8080/",
          "height": 741
        },
        "outputId": "5eedd6da-78c3-4b4e-8afa-c611cf4d5dee"
      },
      "outputs": [
        {
          "output_type": "stream",
          "name": "stdout",
          "text": [
            "Train accuracy is: 0.6739439119630813\n",
            "Test accuracy is: 0.6692689850958127\n",
            "Train ROC is: 0.7344890485945897\n",
            "Test ROC is: 0.730500563839118\n",
            "F score is: 0.575591985428051\n",
            "Precision is: 0.4328767123287671\n",
            "Recall is: 0.8586956521739131\n"
          ]
        },
        {
          "output_type": "display_data",
          "data": {
            "text/plain": [
              "<Figure size 360x360 with 1 Axes>"
            ],
            "image/png": "[encoded data removed]"
          },
          "metadata": {
            "needs_background": "light"
          }
        },
        {
          "output_type": "display_data",
          "data": {
            "text/plain": [
              "<Figure size 432x288 with 2 Axes>"
            ],
            "image/png": "[encoded data removed]"
          },
          "metadata": {
            "needs_background": "light"
          }
        }
      ],
      "source": [
        "model = GaussianNB()\n",
        "model.fit(X_train, y_train)\n",
        "y_train_pred,y_test_pred = classifier(model, X_train, X_test, y_train, y_test)\n",
        "draw_roc(y_train,y_train_pred,y_test,y_test_pred)\n",
        "\n",
        "cf_matrix = confusion_matrix(y_test, y_test_pred )\n",
        "sn.heatmap(cf_matrix, annot=True, fmt=\"d\")\n",
        "plt.title(\"Confusion Matrix\", fontsize=20)\n",
        "plt.show()"
      ]
    },
    {
      "cell_type": "code",
      "execution_count": 132,
      "id": "af1a1d15",
      "metadata": {
        "id": "af1a1d15",
        "colab": {
          "base_uri": "https://localhost:8080/",
          "height": 741
        },
        "outputId": "3bd813bf-9eea-4a01-fbc6-e6b7a26cb8b1"
      },
      "outputs": [
        {
          "output_type": "stream",
          "name": "stdout",
          "text": [
            "Train accuracy is: 0.997515086971956\n",
            "Test accuracy is: 0.7785663591199432\n",
            "Train ROC is: 0.997033512459554\n",
            "Test ROC is: 0.6762232176418995\n",
            "F score is: 0.5214723926380368\n",
            "Precision is: 0.5985915492957746\n",
            "Recall is: 0.46195652173913043\n"
          ]
        },
        {
          "output_type": "display_data",
          "data": {
            "text/plain": [
              "<Figure size 360x360 with 1 Axes>"
            ],
            "image/png": "[encoded data removed]"
          },
          "metadata": {
            "needs_background": "light"
          }
        },
        {
          "output_type": "display_data",
          "data": {
            "text/plain": [
              "<Figure size 432x288 with 2 Axes>"
            ],
            "image/png": "[encoded data removed]"
          },
          "metadata": {
            "needs_background": "light"
          }
        }
      ],
      "source": [
        "rforest = RandomForestClassifier(random_state=0)\n",
        "rforest = rforest.fit(X_train, y_train)\n",
        "y_train_pred,y_test_pred = classifier(rforest, X_train,X_test,y_train,y_test)\n",
        "draw_roc(y_train,y_train_pred,y_test,y_test_pred)\n",
        "\n",
        "cf_matrix = confusion_matrix(y_test, y_test_pred )\n",
        "sn.heatmap(cf_matrix, annot=True, fmt=\"d\")\n",
        "plt.title(\"Confusion Matrix\", fontsize=20)\n",
        "plt.show()"
      ]
    },
    {
      "cell_type": "code",
      "source": [
        "xgb_model = XGBClassifier(verbosity = 0)\n",
        "xgb_model = xgb_model.fit(X_train, y_train)\n",
        "y_train_pred,y_test_pred = classifier(xgb_model, X_train,X_test,y_train,y_test)\n",
        "draw_roc(y_train,y_train_pred,y_test,y_test_pred)\n",
        "\n",
        "cf_matrix = confusion_matrix(y_test, y_test_pred )\n",
        "sn.heatmap(cf_matrix, annot=True, fmt=\"d\")\n",
        "plt.title(\"Confusion Matrix\", fontsize=20)\n",
        "plt.show()"
      ],
      "metadata": {
        "colab": {
          "base_uri": "https://localhost:8080/",
          "height": 741
        },
        "id": "pokO69xYJHUW",
        "outputId": "076e2231-af4c-4bbb-c0c0-3b9251048f42"
      },
      "id": "pokO69xYJHUW",
      "execution_count": 135,
      "outputs": [
        {
          "output_type": "stream",
          "name": "stdout",
          "text": [
            "Train accuracy is: 0.8237486687965921\n",
            "Test accuracy is: 0.7920511000709723\n",
            "Train ROC is: 0.7428309347119663\n",
            "Test ROC is: 0.6976464937560038\n",
            "F score is: 0.556732223903177\n",
            "Precision is: 0.6279863481228669\n",
            "Recall is: 0.5\n"
          ]
        },
        {
          "output_type": "display_data",
          "data": {
            "text/plain": [
              "<Figure size 360x360 with 1 Axes>"
            ],
            "image/png": "[encoded data removed]"
          },
          "metadata": {
            "needs_background": "light"
          }
        },
        {
          "output_type": "display_data",
          "data": {
            "text/plain": [
              "<Figure size 432x288 with 2 Axes>"
            ],
            "image/png": "[encoded data removed]"
          },
          "metadata": {
            "needs_background": "light"
          }
        }
      ]
    },
    {
      "cell_type": "code",
      "source": [
        "for clf in (logreg, model, rforest, xgb_model):\n",
        "    clf.fit(X_train, y_train)\n",
        "    prediction_model(clf,X_test, y_test)"
      ],
      "metadata": {
        "colab": {
          "base_uri": "https://localhost:8080/"
        },
        "id": "bAmZXUSaOjmt",
        "outputId": "fa17d785-ecee-4d89-d376-b18c06b0234e"
      },
      "id": "bAmZXUSaOjmt",
      "execution_count": 139,
      "outputs": [
        {
          "output_type": "stream",
          "name": "stdout",
          "text": [
            "LogisticRegression\t = 0.794 \n",
            "GaussianNB\t = 0.669 \n",
            "RandomForestClassifier\t = 0.779 \n",
            "XGBClassifier\t = 0.792 \n"
          ]
        }
      ]
    },
    {
      "cell_type": "code",
      "source": [
        ""
      ],
      "metadata": {
        "id": "SYd_3GsdQIyB"
      },
      "id": "SYd_3GsdQIyB",
      "execution_count": null,
      "outputs": []
    }
  ],
  "metadata": {
    "kernelspec": {
      "display_name": "Python 3 (ipykernel)",
      "language": "python",
      "name": "python3"
    },
    "language_info": {
      "codemirror_mode": {
        "name": "ipython",
        "version": 3
      },
      "file_extension": ".py",
      "mimetype": "text/x-python",
      "name": "python",
      "nbconvert_exporter": "python",
      "pygments_lexer": "ipython3",
      "version": "3.9.7"
    },
    "colab": {
      "name": "palavi.ipynb",
      "provenance": []
    }
  },
  "nbformat": 4,
  "nbformat_minor": 5
}