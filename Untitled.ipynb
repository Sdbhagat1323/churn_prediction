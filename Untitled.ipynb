{
 "cells": [
  {
   "cell_type": "code",
   "execution_count": 90,
   "id": "460224d4",
   "metadata": {},
   "outputs": [],
   "source": []
  },
  {
   "cell_type": "code",
   "execution_count": 67,
   "id": "7732f0f7",
   "metadata": {},
   "outputs": [
    {
     "data": {
      "text/plain": [
       "[1, 2, 3, 4]"
      ]
     },
     "execution_count": 67,
     "metadata": {},
     "output_type": "execute_result"
    }
   ],
   "source": [
    "l1 = [1,2,3,3,4,4]\n",
    "l2 = []\n",
    "for x in l1:\n",
    "    if x not in l2:\n",
    "        l2.append(x)\n",
    "l2"
   ]
  },
  {
   "cell_type": "code",
   "execution_count": null,
   "id": "fbf9b772",
   "metadata": {},
   "outputs": [],
   "source": [
    "s1 = \"doggy\"\n",
    "\n",
    "def maxString(str):\n",
    "    s2 = {}\n",
    "    for x in str:\n",
    "        if x in s2:\n",
    "            s2[x] += 1\n",
    "        else:\n",
    "            s2[x] = 1\n",
    "    res = max(s2, key =s2.get)\n",
    "    return res\n",
    "            \n",
    "maxString(s1)"
   ]
  },
  {
   "cell_type": "code",
   "execution_count": 137,
   "id": "57057f38",
   "metadata": {},
   "outputs": [
    {
     "data": {
      "text/plain": [
       "{'this': 1, 'is': 2, 'string': 2, 'with': 1, 'max': 1}"
      ]
     },
     "execution_count": 137,
     "metadata": {},
     "output_type": "execute_result"
    }
   ],
   "source": [
    "def maxOccur(func):\n",
    "    def countValue()\n",
    "    def inner(str):\n",
    "        pass\n",
    "    return func(str)\n",
    "\n",
    "s1 = \"this is string with string is max\"\n",
    "\n",
    "def maxString2(str):\n",
    "    s2 ={}\n",
    "    wordlist = str.split()\n",
    "    for x in wordlist:\n",
    "        if x in s2:\n",
    "            s2[x] += 1\n",
    "        else:\n",
    "            s2[x] =1\n",
    "    return s2\n",
    "maxString2(s1)"
   ]
  },
  {
   "cell_type": "code",
   "execution_count": 93,
   "id": "e01b7d8e",
   "metadata": {},
   "outputs": [
    {
     "name": "stdout",
     "output_type": "stream",
     "text": [
      "init is print\n"
     ]
    }
   ],
   "source": [
    "car1 = Car(\"white\", \"x-class\")"
   ]
  },
  {
   "cell_type": "code",
   "execution_count": 94,
   "id": "1886d8c1",
   "metadata": {},
   "outputs": [
    {
     "data": {
      "text/plain": [
       "2"
      ]
     },
     "execution_count": 94,
     "metadata": {},
     "output_type": "execute_result"
    }
   ],
   "source": [
    "Car.countValue()"
   ]
  },
  {
   "cell_type": "code",
   "execution_count": 130,
   "id": "0bcd2cc7",
   "metadata": {},
   "outputs": [
    {
     "data": {
      "text/plain": [
       "['apple']"
      ]
     },
     "execution_count": 130,
     "metadata": {},
     "output_type": "execute_result"
    }
   ],
   "source": []
  },
  {
   "cell_type": "code",
   "execution_count": null,
   "id": "82052e33",
   "metadata": {},
   "outputs": [],
   "source": []
  }
 ],
 "metadata": {
  "kernelspec": {
   "display_name": "Python 3 (ipykernel)",
   "language": "python",
   "name": "python3"
  },
  "language_info": {
   "codemirror_mode": {
    "name": "ipython",
    "version": 3
   },
   "file_extension": ".py",
   "mimetype": "text/x-python",
   "name": "python",
   "nbconvert_exporter": "python",
   "pygments_lexer": "ipython3",
   "version": "3.9.7"
  }
 },
 "nbformat": 4,
 "nbformat_minor": 5
}
